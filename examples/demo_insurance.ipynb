{
 "cells": [
  {
   "cell_type": "markdown",
   "metadata": {},
   "source": [
    "# LlamaParse - Fast checking Insurance Contract for Coverage\n",
    "\n",
    "In this notebook we will look at how LlamaParse can be used to extract structured coverage information from an insurance policy."
   ]
  },
  {
   "cell_type": "markdown",
   "metadata": {},
   "source": [
    "## Installation of required packages"
   ]
  },
  {
   "cell_type": "code",
   "execution_count": 8,
   "metadata": {},
   "outputs": [
    {
     "name": "stdout",
     "output_type": "stream",
     "text": [
      "zsh:1: command not found: pip\n"
     ]
    }
   ],
   "source": [
    "!pip install llama-index llama-parse"
   ]
  },
  {
   "cell_type": "markdown",
   "metadata": {},
   "source": [
    "## Download an insurance policy fron IRDAI\n",
    "\n",
    "The Insurance Regulatory and Development Authority of India (IRDAI) maintains a great resource: https://policyholder.gov.in/web/guest/non-life-insurance-products where all insurance policies available in India are publicly available for download! Let's download a complex health insurance policy as an example."
   ]
  },
  {
   "cell_type": "code",
   "execution_count": 23,
   "metadata": {},
   "outputs": [
    {
     "name": "stdout",
     "output_type": "stream",
     "text": [
      "--2024-03-15 09:27:16--  https://policyholder.gov.in/documents/37343/931203/NBHTGBP22011V012223.pdf/c392bcc1-f6a8-cadd-ab84-495b3273d2c3?version=1.0&t=1669350459879&download=true\n",
      "Resolving policyholder.gov.in (policyholder.gov.in)... 13.107.246.60, 13.107.213.60\n",
      "Connecting to policyholder.gov.in (policyholder.gov.in)|13.107.246.60|:443... connected.\n",
      "HTTP request sent, awaiting response... 200 \n",
      "Length: 1341586 (1.3M) [application/pdf]\n",
      "Saving to: ‘./policy.pdf’\n",
      "\n",
      "./policy.pdf        100%[===================>]   1.28M  1.43MB/s    in 0.9s    \n",
      "\n",
      "2024-03-15 09:27:17 (1.43 MB/s) - ‘./policy.pdf’ saved [1341586/1341586]\n",
      "\n"
     ]
    }
   ],
   "source": [
    "!wget \"https://policyholder.gov.in/documents/37343/931203/NBHTGBP22011V012223.pdf/c392bcc1-f6a8-cadd-ab84-495b3273d2c3?version=1.0&t=1669350459879&download=true\" -O \"./policy.pdf\""
   ]
  },
  {
   "cell_type": "markdown",
   "metadata": {},
   "source": [
    "## Initializing LlamaIndex and LlamaParse"
   ]
  },
  {
   "cell_type": "code",
   "execution_count": 13,
   "metadata": {},
   "outputs": [],
   "source": [
    "# llama-parse is async-first, running the sync code in a notebook requires the use of nest_asyncio\n",
    "import nest_asyncio\n",
    "\n",
    "nest_asyncio.apply()\n",
    "\n",
    "import os\n",
    "os.environ[\"LLAMA_CLOUD_API_KEY\"] = \"llx-...\"\n",
    "os.environ[\"OPENAI_API_KEY\"] = \"sk-...\"\n"
   ]
  },
  {
   "cell_type": "code",
   "execution_count": 15,
   "metadata": {},
   "outputs": [],
   "source": [
    "from llama_index.llms.openai import OpenAI\n",
    "from llama_index.embeddings.openai import OpenAIEmbedding\n",
    "from llama_index.core import VectorStoreIndex\n",
    "from llama_index.core import Settings\n",
    "\n",
    "# for the purpose of this example, we will use the small model embedding and gpt3.5\n",
    "embed_model=OpenAIEmbedding(model=\"text-embedding-3-small\")\n",
    "llm = OpenAI(model=\"gpt-3.5-turbo-0125\")\n",
    "\n",
    "Settings.llm = llm"
   ]
  },
  {
   "cell_type": "markdown",
   "metadata": {},
   "source": [
    "## Vanilla Approach - Parse the Policy with LlamaParse into Markdown"
   ]
  },
  {
   "cell_type": "code",
   "execution_count": 24,
   "metadata": {},
   "outputs": [
    {
     "name": "stdout",
     "output_type": "stream",
     "text": [
      "Started parsing the file under job_id 90d85533-f6d8-495d-b50c-9aab6567150d\n",
      "....."
     ]
    }
   ],
   "source": [
    "from llama_parse import LlamaParse\n",
    "\n",
    "documents = LlamaParse(result_type=\"markdown\").load_data(\"./policy.pdf\")"
   ]
  },
  {
   "cell_type": "code",
   "execution_count": 29,
   "metadata": {},
   "outputs": [
    {
     "name": "stdout",
     "output_type": "stream",
     "text": [
      "## Preamble\n",
      "\n",
      "This ‘Travel Infinity’ Policy is a contract of insurance between You and Us which is subject to payment of full premium in advance and the terms, conditions and exclusions of this Policy. Expense incurred outside the policy period will NOT be covered. Unutilized Sum Insured will expire at the end of the policy year. All applicable benefits, details and limits are mentioned in your Certificate of insurance. We will cover only allopathic treatments in this policy.\n",
      "\n",
      "## Defined Terms\n",
      "\n",
      "The terms listed below in this Section and used elsewhere in the Policy in Initial Capitals shall have the meaning set out against them in this Section.\n",
      "\n",
      "### Standard Definitions\n",
      "\n",
      "|2.1|Accident or Accidental|means sudden, unforeseen and involuntary event caused by external, visible and violent means.|\n",
      "|---|---|---|\n",
      "|2.2|Co-payment|means a cost sharing requirement under a health insurance policy that provides that the policyholder/insured will bear a specified percentage of the admissible claims a\n"
     ]
    }
   ],
   "source": [
    "print(documents[0].text[0:1000])"
   ]
  },
  {
   "cell_type": "markdown",
   "metadata": {},
   "source": [
    "### Markdown Element Node Parser\n",
    "Our markdown element node parser works well for parsing the markdown output of LlamaParse into a set of table and text nodes."
   ]
  },
  {
   "cell_type": "code",
   "execution_count": 26,
   "metadata": {},
   "outputs": [],
   "source": [
    "from llama_index.core.node_parser import MarkdownElementNodeParser\n",
    "\n",
    "node_parser = MarkdownElementNodeParser(llm=OpenAI(model=\"gpt-3.5-turbo-0125\"), num_workers=8)"
   ]
  },
  {
   "cell_type": "code",
   "execution_count": 27,
   "metadata": {},
   "outputs": [
    {
     "name": "stdout",
     "output_type": "stream",
     "text": [
      "Embeddings have been explicitly disabled. Using MockEmbedding.\n"
     ]
    },
    {
     "name": "stderr",
     "output_type": "stream",
     "text": [
      "113it [00:00, 94962.20it/s]\n",
      "100%|██████████| 113/113 [00:29<00:00,  3.88it/s]\n"
     ]
    }
   ],
   "source": [
    "nodes = node_parser.get_nodes_from_documents(documents)"
   ]
  },
  {
   "cell_type": "code",
   "execution_count": 30,
   "metadata": {},
   "outputs": [],
   "source": [
    "base_nodes, objects = node_parser.get_nodes_and_objects(nodes)\n",
    "\n",
    "recursive_index = VectorStoreIndex(nodes=base_nodes+objects)"
   ]
  },
  {
   "cell_type": "code",
   "execution_count": 35,
   "metadata": {},
   "outputs": [],
   "source": [
    "query_engine = recursive_index.as_query_engine(similarity_top_k=25)"
   ]
  },
  {
   "cell_type": "markdown",
   "metadata": {},
   "source": [
    "### Querying the model for coverage"
   ]
  },
  {
   "cell_type": "code",
   "execution_count": 38,
   "metadata": {},
   "outputs": [
    {
     "name": "stdout",
     "output_type": "stream",
     "text": [
      "You are covered for the amount mentioned in the certificate of insurance for every block of hours of delay, up to a maximum of 24 hours of delay.\n",
      "[NodeWithScore(node=TextNode(id_='4f9cbdb2-5079-4755-a43d-6dc15cc14082', embedding=None, metadata={}, excluded_embed_metadata_keys=[], excluded_llm_metadata_keys=[], relationships={<NodeRelationship.SOURCE: '1'>: RelatedNodeInfo(node_id='573f957f-496c-496d-b59b-c0b4446e75a9', node_type=<ObjectType.DOCUMENT: '4'>, metadata={}, hash='5dbe5e3e4a2f939f5addaea005fe12421493791eceb89dbb0308d1689d4107be'), <NodeRelationship.PREVIOUS: '2'>: RelatedNodeInfo(node_id='id_c9ae03aa-9617-479e-b551-5835c074f8fb_664_table', node_type=<ObjectType.TEXT: '1'>, metadata={'table_df': \"{'Benefit': {0: ' ', 1: ' '}, 'USD 100 to 500 in multiples of 100': {0: ' ', 1: 'USD 25 to 100 in multiple of 25'}, '1/2/3/5/6/100': {0: 'Independent SI', 1: '3/6/8/12'}}\", 'table_summary': 'This table provides information on benefits available for an Independent SI, including the amount ranges and corresponding options. The table should be kept.,\\nwith the following columns:\\n'}, hash='149ee27747f25f6e6242460322dc71117e5d28c93f57ab5fc5e960fa48b02750'), <NodeRelationship.NEXT: '3'>: RelatedNodeInfo(node_id='id_c9ae03aa-9617-479e-b551-5835c074f8fb_668_table_ref', node_type=<ObjectType.INDEX: '3'>, metadata={'col_schema': 'Column: Benefit\\nType: Text\\nSummary: None\\n\\nColumn: Post that in multiple of 50 up to 500\\nType: Numeric\\nSummary: None\\n\\nColumn: hours\\nType: Text\\nSummary: None'}, hash='f70eb42fb725d644a6504a76767cc29ac3f915c522736a1f4aa248840d2f7fee')}, text='15 Trip Delay Benefit', start_char_idx=2, end_char_idx=23, text_template='{metadata_str}\\n\\n{content}', metadata_template='{key}: {value}', metadata_seperator='\\n'), score=0.8406251926464879), NodeWithScore(node=TextNode(id_='2569d4bd-ab11-4b81-bbdf-92ab5bfacf7a', embedding=None, metadata={}, excluded_embed_metadata_keys=[], excluded_llm_metadata_keys=[], relationships={<NodeRelationship.SOURCE: '1'>: RelatedNodeInfo(node_id='9d8c1a87-11f0-4971-92a0-2cc99ba7d3a4', node_type=<ObjectType.DOCUMENT: '4'>, metadata={}, hash='7689cf74f75992b100e4d1c6f8171671d05a2bcd0c68188d92235e49be82c3a3'), <NodeRelationship.PREVIOUS: '2'>: RelatedNodeInfo(node_id='id_c9ae03aa-9617-479e-b551-5835c074f8fb_874_table', node_type=<ObjectType.TEXT: '1'>, metadata={'table_df': \"{'Benefit': {0: '1K, 2K, 3K, 4K, 5K, 7.5K, 10K'}, '15K, 20K': {0: '12/24 hours'}}\", 'table_summary': 'This table displays benefits associated with different amounts (15K and 20K) and corresponding time durations. The benefits are listed for specific monetary values ranging from 1K to 10K. The time durations are provided in hours.,\\nwith the following table title:\\nBenefits and Time Durations,\\nwith the following columns:\\n- Benefit: Monetary values of benefits (15K and 20K)\\n- Time Duration: Time durations in hours (12/24 hours)\\n'}, hash='34d3aa772f8ef62e7561d0e760680d631be72d50b67ad2e590fc8c3c29870f6c'), <NodeRelationship.NEXT: '3'>: RelatedNodeInfo(node_id='id_c9ae03aa-9617-479e-b551-5835c074f8fb_878_table_ref', node_type=<ObjectType.INDEX: '3'>, metadata={'col_schema': 'Column: Indemnity\\nType: string\\nSummary: None\\n\\nColumn: 1K, 2K, 3K, 4K, 5K, 7.5K, 10K, 15K, 20K\\nType: string\\nSummary: None'}, hash='82733a288403ae9482bb63f540d65063b5a65691144883cef91fb40a82039748')}, text='Trip Delay', start_char_idx=2, end_char_idx=12, text_template='{metadata_str}\\n\\n{content}', metadata_template='{key}: {value}', metadata_seperator='\\n'), score=0.840397544523942), NodeWithScore(node=TextNode(id_='c1da76e2-ee81-45f6-ad2c-5dd192de86ba', embedding=None, metadata={}, excluded_embed_metadata_keys=[], excluded_llm_metadata_keys=[], relationships={<NodeRelationship.SOURCE: '1'>: RelatedNodeInfo(node_id='34ac68ca-4ac8-47dc-aa4b-35b398eeb6c9', node_type=<ObjectType.DOCUMENT: '4'>, metadata={}, hash='a0ec60b034766672ae28dbc7c51d8ad4936a1d28c9cfe4126d8c94d76df28772'), <NodeRelationship.PREVIOUS: '2'>: RelatedNodeInfo(node_id='id_c9ae03aa-9617-479e-b551-5835c074f8fb_878_table', node_type=<ObjectType.TEXT: '1'>, metadata={'table_df': \"{'Indemnity': {0: '3/6/8/12 hours'}, '1K, 2K, 3K, 4K, 5K, 7.5K, 10K, 15K, 20K': {0: ' '}}\", 'table_summary': 'This table provides information on different indemnity amounts ranging from 1K to 20K for various time durations of 3, 6, 8, and 12 hours.,\\nwith the following table title:\\nIndemnity Amounts for Time Durations,\\nwith the following columns:\\n- Indemnity: None\\n- 1K, 2K, 3K, 4K, 5K, 7.5K, 10K, 15K, 20K: None\\n'}, hash='83d2c2adbcf3c314e30aafa2a5f57222ddaec5e6534d23a20a31d6ccd432b6ae'), <NodeRelationship.NEXT: '3'>: RelatedNodeInfo(node_id='id_c9ae03aa-9617-479e-b551-5835c074f8fb_882_table_ref', node_type=<ObjectType.INDEX: '3'>, metadata={'col_schema': 'Column: Indemnity\\nType: Text\\nSummary: None\\n\\nColumn: 1K, 2.5K, 5K to 25K in multiple of\\nType: Text\\nSummary: None'}, hash='2bc0f553bb9e7da3d89a2f69c9f6ecf11e4e2ce3e57c3e84b4de541001a26801')}, text='Trip Cancellation', start_char_idx=2, end_char_idx=19, text_template='{metadata_str}\\n\\n{content}', metadata_template='{key}: {value}', metadata_seperator='\\n'), score=0.8217103344439066), NodeWithScore(node=TextNode(id_='12baa807-6587-45ae-9c51-29c3eb9eca89', embedding=None, metadata={}, excluded_embed_metadata_keys=[], excluded_llm_metadata_keys=[], relationships={<NodeRelationship.SOURCE: '1'>: RelatedNodeInfo(node_id='9683b3a8-e4da-464a-8b81-606323b7ca07', node_type=<ObjectType.DOCUMENT: '4'>, metadata={}, hash='df5f3929bd54e918baa7b43892ff21a69387e06aed86b63fcfce52c7f2c7f048'), <NodeRelationship.PREVIOUS: '2'>: RelatedNodeInfo(node_id='id_c9ae03aa-9617-479e-b551-5835c074f8fb_884_table', node_type=<ObjectType.TEXT: '1'>, metadata={'table_df': \"{'Benefit': {0: ' '}, '5K': {0: 'Independent SI'}}\", 'table_summary': 'This table provides information about the benefits associated with Independent SI.,\\nwith the following table title:\\nBenefits of Independent SI,\\nwith the following columns:\\n- Benefit: None\\n'}, hash='05027b24d69da39d311e047db1ce5753fe0e158111c61c1f1a712ce6ae6fc468'), <NodeRelationship.NEXT: '3'>: RelatedNodeInfo(node_id='id_c9ae03aa-9617-479e-b551-5835c074f8fb_888_table_ref', node_type=<ObjectType.INDEX: '3'>, metadata={'col_schema': 'Column: Indemnity\\nType: Text\\nSummary: None\\n\\nColumn: 1K, 2.5K, 5K to 25K in multiple of\\nType: Text\\nSummary: None'}, hash='aa55b866a531828c0999db935bf503afc7d8bc21f1220550282bc846c10fc762')}, text='Trip Interruption', start_char_idx=2, end_char_idx=19, text_template='{metadata_str}\\n\\n{content}', metadata_template='{key}: {value}', metadata_seperator='\\n'), score=0.8199408168017469), NodeWithScore(node=TextNode(id_='c3b76767-e787-4854-920b-df9853219344', embedding=None, metadata={}, excluded_embed_metadata_keys=[], excluded_llm_metadata_keys=[], relationships={<NodeRelationship.SOURCE: '1'>: RelatedNodeInfo(node_id='9a16b093-24d2-4d58-8040-37c6d835c838', node_type=<ObjectType.DOCUMENT: '4'>, metadata={}, hash='924cde36df80e477e5a5dba3a758af670d3c751d469d94864385040616dc1d46'), <NodeRelationship.PREVIOUS: '2'>: RelatedNodeInfo(node_id='id_c9ae03aa-9617-479e-b551-5835c074f8fb_212_table', node_type=<ObjectType.TEXT: '1'>, metadata={'table_df': '|Claims Payment Options|Special Conditions|\\n|---|---|\\n|1. We will reimburse the actual expenses incurred in obtaining a duplicate or fresh international driving license', 'table_summary': 'Table detailing Claims Payment Options and Special Conditions for reimbursement of expenses related to obtaining a duplicate or fresh international driving license.,\\nwith the following table title:\\nClaims Payment Options and Special Conditions,\\nwith the following columns:\\n- Claims Payment Options: None\\n- Special Conditions: None\\n'}, hash='c73c334e433b75441e56d3350ea416d7b26e57f3a3739674e477b3c0feef4c92'), <NodeRelationship.NEXT: '3'>: RelatedNodeInfo(node_id='id_c9ae03aa-9617-479e-b551-5835c074f8fb_218_table_ref', node_type=<ObjectType.INDEX: '3'>, metadata={'col_schema': 'Column: Claims Payment Options\\nType: Text\\nSummary: None\\n\\nColumn: Special Conditions\\nType: Text\\nSummary: None'}, hash='bf7f8108d78d07ad223c773799dc65ac6163457fc304a49f31a44703808c1438')}, text='2. We will pay a fixed amount as mentioned in certificate of insurance\\n|This cover is not applicable for domestic travel insurance policies|\\n\\nWhat is not covered (in addition to General exclusions- Section 4)?\\n\\n1. Loss, delay or confiscation or detention by customs, police or public authorities.\\n2. Any loss or theft of your International Driving license, if you do not report it to the police within 24 hours of discovery or as soon as reasonably possible and request a written police report\\n\\n Missed Connection\\n\\nIf common carrier you are travelling in is not running on its published timetable and you missed a pre-booked onward connection as a direct result of this delay then we will provide coverage up to sum insured mentioned in certificate of insurance', start_char_idx=0, end_char_idx=761, text_template='{metadata_str}\\n\\n{content}', metadata_template='{key}: {value}', metadata_seperator='\\n'), score=0.8178595701562852), NodeWithScore(node=TextNode(id_='623c56c8-b6ae-4c3b-b911-756d365cf6e7', embedding=None, metadata={}, excluded_embed_metadata_keys=[], excluded_llm_metadata_keys=[], relationships={<NodeRelationship.SOURCE: '1'>: RelatedNodeInfo(node_id='4a714661-ee76-4624-af70-deb3610f8b43', node_type=<ObjectType.DOCUMENT: '4'>, metadata={}, hash='318cbc4d23923ed7e816af7916040c85e053a024752265141a276db881c3cda7'), <NodeRelationship.PREVIOUS: '2'>: RelatedNodeInfo(node_id='id_c9ae03aa-9617-479e-b551-5835c074f8fb_668_table', node_type=<ObjectType.TEXT: '1'>, metadata={'table_df': \"{'Benefit': {0: ' ', 1: ' '}, 'Post that in multiple of 50 up to 500': {0: ' ', 1: 'USD 500, 750, 1000. Post that in'}, 'hours': {0: 'Independent SI', 1: 'NIL/100/25'}}\", 'table_summary': 'This table provides information on the benefits for Independent SI in multiples of 50 up to 500 hours, with corresponding USD amounts and rates.,\\nwith the following table title:\\nBenefits for Independent SI,\\nwith the following columns:\\n- Benefit: None\\n- Post that in multiple of 50 up to 500: None\\n- hours: None\\n'}, hash='2c0b8f4721d74e9fa8bc10664ec8b473ad5b2d01404f48694a94fbb2f1785090'), <NodeRelationship.NEXT: '3'>: RelatedNodeInfo(node_id='id_c9ae03aa-9617-479e-b551-5835c074f8fb_672_table_ref', node_type=<ObjectType.INDEX: '3'>, metadata={'col_schema': ''}, hash='1cf35f24a7078495d64b6ad624315836b095683afc936abb6ff1b525cf2b5c48')}, text='16.1 Trip Cancellation Indemnity', start_char_idx=2, end_char_idx=34, text_template='{metadata_str}\\n\\n{content}', metadata_template='{key}: {value}', metadata_seperator='\\n'), score=0.8144489481897206), NodeWithScore(node=TextNode(id_='e4f8d721-1b4a-4cef-965d-05d1695a85ca', embedding=None, metadata={}, excluded_embed_metadata_keys=[], excluded_llm_metadata_keys=[], relationships={<NodeRelationship.SOURCE: '1'>: RelatedNodeInfo(node_id='972b96af-d1a5-4807-a7c9-b3310699bfe8', node_type=<ObjectType.DOCUMENT: '4'>, metadata={}, hash='b3bc1a7d12c9cbecdd161f85d135f7ca9cfb0196f2361e09aa5e3be77c5170e6'), <NodeRelationship.PREVIOUS: '2'>: RelatedNodeInfo(node_id='1a066868-eeec-4f59-bdd2-6a3f4a1c089b', node_type=<ObjectType.TEXT: '1'>, metadata={}, hash='a5605b395f456d5973d049eef79cc58788555005b7d3b807d1796cdf254a9beb'), <NodeRelationship.NEXT: '3'>: RelatedNodeInfo(node_id='id_c9ae03aa-9617-479e-b551-5835c074f8fb_206_table_ref', node_type=<ObjectType.INDEX: '3'>, metadata={'col_schema': 'Column: Claims Payment Options\\nType: text\\nSummary: None\\n\\nColumn: Special Conditions\\nType: text\\nSummary: None'}, hash='c337428e6d32b0082013ad39dad791a48d41055bd351b689aafa39a318d32ba0')}, text='What is not covered (in addition to General exclusions- Section 4)?\\n\\n- Any cancellation due to Hospitalization resulting from pre-existing disease, Childbirth, Pregnancy or related medical complications to You, Your immediate family or traveling companion.\\n- Failure to start the journey due to rejection of VISA.\\n\\n Trip Interruption\\n\\nIf you return home without completing the trip due to below mentioned reasons, then we will provide coverage up to sum insured mentioned in certificate of insurance:\\n\\n1. Additional travel costs (in pe same class as original booking) if you cannot use your return ticket;\\n2. Unused accommodation costs pat insured person has paid and cannot get back\\n\\nReasons for returning home:\\n\\n1. Death or minimum 24 hour hospitalization of your immediate family member or traveling companion or You\\n2. You are unable to start your trip due to any natural disaster declared by the appropriate government authority.\\n3. The common carrier which you boarded as a passenger is hijacked.\\n4. Due to unexpected strike, riot or Civil commotion at place of visit other than your hometown.\\n\\nProduct Name: Travel infinity | Product UIN: NBHTGBP22011V012223\\n---\\n Loss of Passport\\n\\nIf you lose your passport while on trip, then we will provide coverage up to sum insured mentioned in certificate of insurance', start_char_idx=3898, end_char_idx=5213, text_template='{metadata_str}\\n\\n{content}', metadata_template='{key}: {value}', metadata_seperator='\\n'), score=0.8125486245288257), NodeWithScore(node=TextNode(id_='dbc1abeb-c3e0-4e72-94ac-3044a9fa7f9a', embedding=None, metadata={}, excluded_embed_metadata_keys=[], excluded_llm_metadata_keys=[], relationships={<NodeRelationship.SOURCE: '1'>: RelatedNodeInfo(node_id='1591f587-51a5-4cfb-bf9c-1362d861f390', node_type=<ObjectType.DOCUMENT: '4'>, metadata={}, hash='b974dc258d48ac832246894f7a6120dee91493020cf3b027f1edc51670e1a44d'), <NodeRelationship.PREVIOUS: '2'>: RelatedNodeInfo(node_id='id_c9ae03aa-9617-479e-b551-5835c074f8fb_850_table', node_type=<ObjectType.TEXT: '1'>, metadata={'table_df': \"{'Indemnity': {0: ' '}, 'USD': {0: ' '}, '500, 750, 1000': {0: ' '}, '0/500/100': {0: 0}, 'Independent SI': {0: ' '}}\", 'table_summary': 'This table provides information on Indemnity amounts in USD, with values of 500, 750, and 1000. It also includes details on Independent SI.,\\nwith the following table title:\\nIndemnity Amounts in USD,\\nwith the following columns:\\n- Indemnity: Indemnity amounts in USD\\n- 500: Indemnity amount of 500 USD\\n- 750: Indemnity amount of 750 USD\\n- 1000: Indemnity amount of 1000 USD\\n- Independent SI: Details on Independent SI\\n'}, hash='546b56236af95bc27ad12b70d9e0f52480a12583505cf06c99688a9b35411af8'), <NodeRelationship.NEXT: '3'>: RelatedNodeInfo(node_id='id_c9ae03aa-9617-479e-b551-5835c074f8fb_856_table_ref', node_type=<ObjectType.INDEX: '3'>, metadata={'col_schema': 'Column: Indemnity\\nType: Percentage\\nSummary: None\\n\\nColumn: Part of Base\\nType: Description\\nSummary: None'}, hash='714a705a20bb9ae5314a40ec63ca8cb502d277d2a4a075c32e9e7c8c88a45818')}, text='Trip Cancellation due to Domestic Disturbances and Inconvenience\\n\\nIndemnity\\nINR\\n500, 1K to 10K in multiple of\\n1000\\nIndependent SI\\n\\n Complete Pre-existing disease cover', start_char_idx=2, end_char_idx=169, text_template='{metadata_str}\\n\\n{content}', metadata_template='{key}: {value}', metadata_seperator='\\n'), score=0.8089934056353245), NodeWithScore(node=TextNode(id_='a4770a25-0925-4d8f-ae33-dd9b6be3ecd6', embedding=None, metadata={}, excluded_embed_metadata_keys=[], excluded_llm_metadata_keys=[], relationships={<NodeRelationship.SOURCE: '1'>: RelatedNodeInfo(node_id='27ab5e57-f72a-40b2-9e3c-df966bb70b9d', node_type=<ObjectType.DOCUMENT: '4'>, metadata={}, hash='97727683b9f55b3a5922819ac79b7fc90a9fe21b97c81de1bb90c116244571c0'), <NodeRelationship.PREVIOUS: '2'>: RelatedNodeInfo(node_id='id_c9ae03aa-9617-479e-b551-5835c074f8fb_676_table', node_type=<ObjectType.TEXT: '1'>, metadata={'table_df': \"{'Benefit': {0: ' ', 1: ' '}, 'multiple of 500 till 5000': {0: ' ', 1: 'USD 500, 750, 1000. Post that in'}, '0/500/100': {0: 'Independent SI', 1: 'NIL/100/25'}}\", 'table_summary': 'This table outlines the benefits provided in multiples of 500 up to 5000 for Independent SI. It includes the amounts in USD and corresponding values for NIL, 100, and 25 after reaching certain thresholds.,\\nwith the following table title:\\nBenefit in multiples of 500 for Independent SI,\\nwith the following columns:\\n- Benefit: USD amounts and corresponding values\\n'}, hash='f21e9536287689d22436b67cc69dcef6985122992d6be3f994306dce4bb16a5c'), <NodeRelationship.NEXT: '3'>: RelatedNodeInfo(node_id='id_c9ae03aa-9617-479e-b551-5835c074f8fb_680_table_ref', node_type=<ObjectType.INDEX: '3'>, metadata={'col_schema': 'Column: Indemnity\\nType: multiple of 500 till 10000\\nSummary: Indemnity amounts based on multiples of 500 up to 10000 for Independent SI in USD.\\n\\nColumn: Independent SI\\nType: USD 500, 750, 1000. Post that in\\nSummary: Corresponding values for NIL, 100, and 25 post USD 1000.'}, hash='a38be4daef6e6a666ba8e984851230c3dd3fd6c03f5d85eee4e0561c8b3071c5')}, text='17.1 Trip Interruption Indemnity', start_char_idx=2, end_char_idx=34, text_template='{metadata_str}\\n\\n{content}', metadata_template='{key}: {value}', metadata_seperator='\\n'), score=0.8089271158079073), NodeWithScore(node=TextNode(id_='53c65409-50db-4f85-8de7-87841263c873', embedding=None, metadata={}, excluded_embed_metadata_keys=[], excluded_llm_metadata_keys=[], relationships={<NodeRelationship.SOURCE: '1'>: RelatedNodeInfo(node_id='e2e68c62-836f-4335-8233-044c6b795114', node_type=<ObjectType.DOCUMENT: '4'>, metadata={}, hash='7e8371340f39265d3f23bce78e67d84f1b126fe0841c8cc8cfc219241a2b86d6'), <NodeRelationship.PREVIOUS: '2'>: RelatedNodeInfo(node_id='id_c9ae03aa-9617-479e-b551-5835c074f8fb_672_table', node_type=<ObjectType.TEXT: '1'>, metadata={'table_df': \"{'Indemnity': {0: ' ', 1: ' '}, 'multiple of 1000 till 10000': {0: ' ', 1: 'USD 500, 750, 1000. Post that in'}, '0/500/100': {0: 'Independent SI', 1: 'NIL/100/25'}}\", 'table_summary': \"This table provides information on indemnity amounts in multiples of 1000 up to 10000, with specific details on the independent sum insured values and corresponding percentages. The table is titled 'Indemnity' and has the ID 'id_672'. It should be kept.,\\nwith the following columns:\\n\"}, hash='0ebccad0ab0d94476d72bf005160e15e6d9687d98fc75d876d44c698fb92a94c'), <NodeRelationship.NEXT: '3'>: RelatedNodeInfo(node_id='id_c9ae03aa-9617-479e-b551-5835c074f8fb_676_table_ref', node_type=<ObjectType.INDEX: '3'>, metadata={'col_schema': 'Column: Benefit\\nType: multiple of 500 till 5000\\nSummary: USD amounts and corresponding values'}, hash='6ada2a7d71158f9970c9ecf2c0d696bec48ce4d82c95d42df98fc048b13dbe7c')}, text='16.2 Trip Cancellation Benefit', start_char_idx=2, end_char_idx=32, text_template='{metadata_str}\\n\\n{content}', metadata_template='{key}: {value}', metadata_seperator='\\n'), score=0.8069192445335474), NodeWithScore(node=TextNode(id_='ff570b3c-16f6-4451-99e7-1da6539e9b44', embedding=None, metadata={}, excluded_embed_metadata_keys=[], excluded_llm_metadata_keys=[], relationships={<NodeRelationship.SOURCE: '1'>: RelatedNodeInfo(node_id='33799815-e42a-4b7d-aa41-5514dda29ba7', node_type=<ObjectType.DOCUMENT: '4'>, metadata={}, hash='ff0d805f40dcac1676c6bf46aedb3f0bd44f5e648e3b3cab146ef8be218fd517'), <NodeRelationship.PREVIOUS: '2'>: RelatedNodeInfo(node_id='084e8ecf-18a1-4d1f-8b3f-a9886d1387b5', node_type=<ObjectType.TEXT: '1'>, metadata={}, hash='b54d051c60a52da64c22894f2115cd9b8bc347499f63b792c033f04d67235fff'), <NodeRelationship.NEXT: '3'>: RelatedNodeInfo(node_id='id_c9ae03aa-9617-479e-b551-5835c074f8fb_354_table_ref', node_type=<ObjectType.INDEX: '3'>, metadata={'col_schema': 'Column: Product Name\\nType: text\\nSummary: None\\n\\nColumn: Product UIN\\nType: text\\nSummary: None'}, hash='7f0d8db5a0240334041922d92cf3025c01c8039fd0fa6adecc22fdb9c7b3e504')}, text='Any delay due to reasons, which were made public or known to You at least 6 hours prior to the scheduled departure of the Common Carrier.\\n2. Any exclusion mentioned in the “General Exclusions” Section of this Policy.\\n\\nProduct Name: Travel infinity | Product UIN: NBHTGBP22011V012223\\n---\\n 3.53 Mobility Aids Allowance\\n\\nWe shall reimburse the charges incurred by the Insured Person for procuring medically necessary prosthetic devices within 365 days of the Accidental injury on the written advice of the treating Medical Practitioner during the policy period by the Insured Person up to the maximum of the sum insured as mentioned in the Certificate of Insurance.\\n\\nThese devices are artificial devices replacing body parts, including artificial limbs, arms or eyes, orthopedic braces (including but not limited to Cane, Crutches, forearm crutch, Walkers, Walker cane hybrid, Gait trainers, Seated walking scooter, Wheelchairs and scooters, Stairlifts and similar devices, patient transfer devices and other aids of similar utility arm, back or neck braces) and durable medical equipment (including but not limited to crutches, wheelchairs, power mobility devices, and hospital beds) which fulfills the Insured Person’s basic medical needs consequent to an injury.\\n\\nSpecific Exclusion applicable to Mobility Aids Allowance: Durable medical equipment excludes spectacles, contact lenses, hearing aids, blood pressure monitoring machine and diabetes monitoring machine.\\n\\nSpecific Conditions applicable to Mobility Aids Allowance: For a claim to be admissible under this cover there should be an admissible claim under benefit ‘Emergency In-patient medical treatment’ or ‘Emergency In-patient medical treatment with OPD’ or ‘Personal Accident’ or ‘Accidental Death and Disability (Common Carrier)’.\\n\\n 3.54 Lifestyle Support (Modifications Made at Home/Vehicle)\\n\\nIn case of Permanent Total Disability, certified by the Medical Practitioner, we will pay benefit amount towards modification of the Insured Person’s residential accommodation and/or vehicle.\\n\\nSpecific Conditions applicable to Lifestyle Support: For a claim to be admissible under this cover there should be an admissible claim under benefit ‘Personal Accident’ or ‘Accidental Death and Disability (Common Carrier)’.\\n\\n 3.55 Missed Departure\\n\\nWe shall pay a fixed benefit amount as mentioned in the Certificate of insurance, if Insured Person misses his flight due to:\\n\\n1. Accident of the Public Transport on which the Insured Person is booked to travel\\n2. Mechanical/electrical breakdown of the Public Transport\\n3. Any delay in arrival of Public Transport as a result of major travel event or delayed arrival of the inward flight, resulting in failure of the Insured Person to board the connecting flight, anytime during the entire Trip starting from his departure to destination to return to Home.\\n\\nSpecific Conditions applicable to Missed Departure:\\n\\n1. Insured Person may claim only either under Trip Delay or Missed Departure and not under both the covers\\n2. Benefit shall not be applicable if:\\n1. The Insured Person’s failure to arrive for the Flight’s departure in sufficient time to complete all departure formalities in accordance with the Carrier’s published time schedule.\\n2. Any occasion when the carrier has offered an alternative transport or connection or the Insured Person’s ticket for the connecting flight could have been used for an alternative connection.\\n3. Any change in schedule of airline which were made public or known to You at least 6 hours prior to the scheduled departure of the Common Carrier.\\n\\n 3.56 Terrorism Cover', start_char_idx=4493, end_char_idx=8097, text_template='{metadata_str}\\n\\n{content}', metadata_template='{key}: {value}', metadata_seperator='\\n'), score=0.8063087885594309), NodeWithScore(node=TextNode(id_='66d32c05-8825-4037-92ed-81f6bc6dbbec', embedding=None, metadata={}, excluded_embed_metadata_keys=[], excluded_llm_metadata_keys=[], relationships={<NodeRelationship.SOURCE: '1'>: RelatedNodeInfo(node_id='63a2f09b-96e1-454a-b5be-e735aa66882b', node_type=<ObjectType.DOCUMENT: '4'>, metadata={}, hash='ac9082ec27698a85951ad7093a02b5039cc2871bab3f901b7169f7adc9d400a0'), <NodeRelationship.PREVIOUS: '2'>: RelatedNodeInfo(node_id='a31c9d85-ad33-468d-9f29-608b396594de', node_type=<ObjectType.TEXT: '1'>, metadata={}, hash='eeed662e21ca3b1d9edbeb09627aa0f0a87b0b9d2d546ebf3f98fe04ddd4b9d4'), <NodeRelationship.NEXT: '3'>: RelatedNodeInfo(node_id='72f16e34-a5f8-4b61-a688-84bad8ee5593', node_type=<ObjectType.TEXT: '1'>, metadata={}, hash='cf0ef7ef6fd2afd9a9a0099c28f81f7748386758facf350cb0a1919ff17dfa0f')}, text=\"11. Any loss falling under the ‘General Exclusions’ Section of the Policy.\\n\\n 3.48 Loss of deposit on cancellation (hotel & common carrier)\\n\\nWe shall cover the loss of irrevocable deposits or charges paid in advance or contracted to be paid towards hotel & Common Carrier, in the event of necessary and unavoidable cancellation of Hotel and Common Carrier booking arrangement due to following listed reasons up to sum amount benefit as mentioned in Certificate of insurance\\n\\n1. Inclement Weather\\n\\n2. Accident of Vehicle resulting in hospitalization of Insured or an admissible claim in the motor insurance policy along with the FIR proving that the Insured Person was involved in an Accident with a third party,\\n\\n3. Strike, Curfew, Failure of public transport, death of Insured Person, felonious assault fire & flood\\n\\n4. The breakdown of a scheduled Common Carrier on which the Insured Person is travelling;\\n\\nProduct Name: Travel infinity | Product UIN: NBHTGBP22011V012223\\n---\\n Loss of Deposit on Cancellation\\n\\nAn breakdown on a motorway or thoroughfare, occurring ahead of the Common Carrier or any vehicle on which the Insured Person is travelling, which causes an unexpected delay in arriving at the first Port of departure of the Common Carrier on which he/she has booked to travel.\\n\\nA Deductible as mentioned in the Certificate of insurance shall be separately applicable for each and every claim made under this Benefit.\\n\\nTwo options are available for claims payment under this benefit:\\n\\n1. We will pay a fixed amount for pe loss\\n2. We will reimburse for pe forfeited, non-refundable prepaid payments, made prior to pe Insured Person's departure date up to pe maximum of a Sum Insured as mentioned in pe Certificate of insurance after adjusting pe proceeds of canceling or preponing of pe arrangement, if any.\\n\\nSpecific Exclusions to Loss of Deposit on Cancellation (Hotel & Common Carrier):\\n\\n- Common Carrier-caused delays, including an announced, organized sanctioned union labour strike that affects public transportation, unless the commencement of the period of insurance is prior to a date when the strike is foreseeable. A strike is foreseeable on the date the labour union members vote to approve a strike, unless the delay is due to breakdown of the Common Carrier.\\n- Travel arrangements cancelled or changed by an airline, cruise line, or tour operator, unless the cancellation is the result of inclement weather.\\n- Changes in plans by the Insured Person, an immediate family member, or travelling companion for any reason.\\n- Adverse change in financial circumstances of the Insured Person, any family member, or a traveling companion.\\n- Any business or contractual obligations of the Insured Person, any family member, or a traveling companion.\\n- Default by the person, agency, or tour operator from whom the Insured Person bought this Policy and/or made travel arrangements.\\n- Any government regulation or prohibition.\\n- On account of a felonious assault, where the Insured/Insured Person, any family member of the Insured/Insured Person, the traveling companion or traveling companion's family member has been a principal or accessory in the assault committed.\\n- Any exclusion mentioned in the 'General Exclusions' section of this Policy.\\n\\n Emergency Accommodation Coverage\\n\\nWe shall reimburse the additional cost of emergency accommodation up to a maximum of the Sum Insured mentioned in the certificate of insurance on operation of perils below.\\n\\n1. If the Insured Person could not stay in the accommodation originally booked due to fire, flood, earthquake, storm, hurricane, explosion, outbreak of major infectious diseases.\\n2. The insured incur additional expenses for accommodation due to the hospitalization and or isolation/quarantine of insured/accompanying member(s) in the visiting country/city travelling together due to any covered disease/illness/injury.\\n3. Additional Expenses incurred in accommodation due to a local government body declared lockdown in the visiting city, state or country preventing travel back to India/origin city OR a lock down declared by state or government of India.\\n\\nAdditionally, the company shall also reimburse the difference of cost between the originally booked flight for scheduled journey which could not be undertaken and the alternate flight arrangements made by the insured.\\n\\nOur liability to make payment is only in excess of the Deductible as specified in Certificate of insurance/certificate of insurance and as stated in the schedule of cover. A Deductible as mentioned in the Certificate of insurance shall be separately applicable for each and every claim made under this Benefit.\\n\\nSpecific Exclusion applicable to Emergency Accommodation Coverage:\\n\\nProduct Name: Travel infinity | Product UIN: NBHTGBP22011V012223\\n---\\n Travel Loan Secure\\n\\nWe shall indemnify the Insured Person, in case the Insured Person has borrowed, for the purpose of this Trip, from an NBFC/Bank or any other entity authorized by relevant authorities in India.\", start_char_idx=3718, end_char_idx=8725, text_template='{metadata_str}\\n\\n{content}', metadata_template='{key}: {value}', metadata_seperator='\\n'), score=0.8053718746066832), NodeWithScore(node=TextNode(id_='1a066868-eeec-4f59-bdd2-6a3f4a1c089b', embedding=None, metadata={}, excluded_embed_metadata_keys=[], excluded_llm_metadata_keys=[], relationships={<NodeRelationship.SOURCE: '1'>: RelatedNodeInfo(node_id='972b96af-d1a5-4807-a7c9-b3310699bfe8', node_type=<ObjectType.DOCUMENT: '4'>, metadata={}, hash='b3bc1a7d12c9cbecdd161f85d135f7ca9cfb0196f2361e09aa5e3be77c5170e6'), <NodeRelationship.NEXT: '3'>: RelatedNodeInfo(node_id='e4f8d721-1b4a-4cef-965d-05d1695a85ca', node_type=<ObjectType.TEXT: '1'>, metadata={}, hash='97eee4e6b9b809798003412be34c42b2ba3ab547258bbbf33519cce542e62a55'), <NodeRelationship.PREVIOUS: '2'>: RelatedNodeInfo(node_id='id_c9ae03aa-9617-479e-b551-5835c074f8fb_186_table', node_type=<ObjectType.TEXT: '1'>, metadata={'table_df': \"{'Content': {0: 'Repatriation of mortal remains', 1: 'Total Loss of checked-in baggage', 2: 'Delay of checked-in baggage'}, 'Page Number': {0: 1, 1: 1, 2: 1}}\", 'table_summary': 'This table provides information on different scenarios related to baggage handling, including the repatriation of mortal remains, total loss of checked-in baggage, and delay of checked-in baggage.,\\nwith the following table title:\\nBaggage Handling Scenarios,\\nwith the following columns:\\n- Content: None\\n- Page Number: None\\n'}, hash='57f84947dd067d46bd927422ad645f7c12a45db031a64c869222620204a0e38e')}, text='Repatriation of mortal remains\\n\\nIf you die in the Risk Period, then We will reimburse the cost of either transporting your mortal remains to permanent place of residence or a cremation ceremony in the city/country of death.\\n\\n Special condition\\n\\n1. Claim under this cover is admissible only if hospitalization claim is also payable under “emergency inpatient medical treatment” “emergency inpatient medical treatment with OPD” or OR death claim is payable under “personal accident” or “accidental death or disability (common carrier)” cover of this policy\\n2. Claim payment under this benefit has two options\\n1. Any claim under this benefit will use sum insured of “Emergency in-patient medical treatment” or “Emergency in-patient medical treatment with OPD”\\n2. Claim under this benefit has its own separate sum insured\\n\\n Total Loss of checked-in baggage\\n\\nWe will pay the pro-rated amount if common carrier permanently loses your checked-in baggage.\\n\\nHow pro-rata will work?\\n\\nIf you have checked-in 3 baggage’s and one was lost by common carrier, then we will pay one-third of the Sum Insured.\\n\\n Special conditions\\n\\n1. Any Claim amount paid already under the “Delay of Checked-in Baggage” cover, will be deducted from the claim amount payable under this cover.\\n2. If common carrier has paid any compensation amount for Total Loss of Checked-in Baggage, that amount will be deducted from the claim amount payable under this cover.\\n\\nWhat is not covered (in addition to General exclusions- section 4)?\\n\\n1. Losses arising from any delay, detention, confiscation by customs officials or other public authorities\\n2. Partial loss- Loss of one or more items from the baggage.\\n\\n Delay of checked-in baggage\\n\\nProduct Name: Travel infinity | Product UIN: NBHTGBP22011V012223\\n---\\n Trip Delay\\n\\nIf departure of your scheduled common carrier is delayed beyond a specified number of hours due to any of the following reasons, then we will pay an amount as mentioned in certificate of insurance for every block of hours of delay (as mentioned in certificate of insurance) maximum up to 24 hours of delay:\\n\\n1. Delay due to bad Weaper.\\n2. Delay due to a sudden Strike or any oper action by employees of pe Common Carrier.\\n3. Delay due to equipment failure of pe Common Carrier.\\n4. Delay due to operational problem at pe Common Carrier end like crew/staff scheduling issues.\\n5. Cancellation or rescheduling done by pe Common carrier.\\n\\nWhat is not covered (in addition to General exclusions- section 4)?\\n\\n- Any delay due to reasons, which were made public or known to You at least 6 hours prior to the scheduled departure of the Common Carrier.\\n\\n Trip Cancellation\\n\\nIf you cancel your trip before starting the journey due to any of the reasons listed below, then we will provide coverage up to sum insured mentioned in certificate of insurance:\\n\\n1. Deap or minimum 24 hour hospitalization of your immediate family member or traveling companion or You.\\n2. Your presence is required by judicial aupority during pe period of insurance.\\n3. You are unable to start your trip due to any natural disaster declared by pe appropriate government aupority.\\n4. Due to unexpected strike, riot or Civil commotion at Your destination or hometown or departure city.\\n5. Loss of passport in case of international trips.\\n6. Compulsory quarantine or prevention of travel by Government of India.\\n\\nTwo options are available for claims payment under this benefit:\\n\\n1. We will cover for costs that you have already paid towards the trip and cannot get back or which is payable/refundable by insured due to cancellation of trip under a lawful contract\\n2. We will pay a fixed amount as mentioned in certificate of insurance\\n\\nSpecial conditions:\\n\\n1. We will cover only travel ticket and accommodation costs.\\n2. We will cover only one instance of Trip Cancellation for single trip policies and maximum of three instances for multi trip policies.\\n\\nWhat is not covered (in addition to General exclusions- Section 4)?\\n\\n- Any cancellation due to Hospitalization resulting from pre-existing disease, Childbirth, Pregnancy or related medical complications to You, Your immediate family or traveling companion.\\n- Failure to start the journey due to rejection of VISA.\\n\\n Trip Interruption\\n\\nIf you return home without completing the trip due to below mentioned reasons, then we will provide coverage up to sum insured mentioned in certificate of insurance:\\n\\n1. Additional travel costs (in pe same class as original booking) if you cannot use your return ticket;\\n2. Unused accommodation costs pat insured person has paid and cannot get back\\n\\nReasons for returning home:\\n\\n1. Death or minimum 24 hour hospitalization of your immediate family member or traveling companion or You\\n2. You are unable to start your trip due to any natural disaster declared by the appropriate government authority.\\n3.', start_char_idx=2, end_char_idx=4835, text_template='{metadata_str}\\n\\n{content}', metadata_template='{key}: {value}', metadata_seperator='\\n'), score=0.8053538962056053), NodeWithScore(node=TextNode(id_='af6b1fdc-88c6-40ce-a8a0-fc74491e88ab', embedding=None, metadata={}, excluded_embed_metadata_keys=[], excluded_llm_metadata_keys=[], relationships={<NodeRelationship.SOURCE: '1'>: RelatedNodeInfo(node_id='abe5bfb0-1c6a-4d10-819b-12237c8fb19b', node_type=<ObjectType.DOCUMENT: '4'>, metadata={}, hash='73f4474dd6d8163653de05cc5e178172de852d8fe9b10589a54724f0925513d9'), <NodeRelationship.PREVIOUS: '2'>: RelatedNodeInfo(node_id='id_c9ae03aa-9617-479e-b551-5835c074f8fb_206_table', node_type=<ObjectType.TEXT: '1'>, metadata={'table_df': '|Claims Payment Options|Special Conditions|\\n|---|---|\\n|1. We will reimburse the actual expenses incurred in obtaining a duplicate or fresh passport', 'table_summary': 'Table showing Claims Payment Options with Special Conditions related to reimbursing expenses for obtaining a duplicate or fresh passport.,\\nwith the following table title:\\nClaims Payment Options,\\nwith the following columns:\\n- Claims Payment Options: None\\n- Special Conditions: None\\n'}, hash='25f9e3e418f21e5fa3460a9e14fd1d547a185651eabc9210642cfb861f26ab6e'), <NodeRelationship.NEXT: '3'>: RelatedNodeInfo(node_id='id_c9ae03aa-9617-479e-b551-5835c074f8fb_212_table_ref', node_type=<ObjectType.INDEX: '3'>, metadata={'col_schema': 'Column: Claims Payment Options\\nType: Text\\nSummary: None\\n\\nColumn: Special Conditions\\nType: Text\\nSummary: None'}, hash='906f5df2535d5b151507bbe40b65b840f33f33fda77cf4a09166102485d998bf')}, text='2. We will pay a fixed amount as mentioned in certificate of insurance\\n|This cover is not applicable for domestic travel insurance policies|\\n\\nWhat is not covered (in addition to General exclusions- Section 4)?\\n\\n1. Loss, delay or confiscation or detention by customs, police or public authorities.\\n2. Any loss or theft, if you do not report it to the police/embassy within 24 hours of discovery or as soon as reasonably possible and request a written police report\\n\\n Loss of International Driving license\\n\\nIf you lose your international driving license while on trip, then we will provide coverage up to sum insured mentioned in certificate of insurance', start_char_idx=0, end_char_idx=652, text_template='{metadata_str}\\n\\n{content}', metadata_template='{key}: {value}', metadata_seperator='\\n'), score=0.8053302199312103), NodeWithScore(node=TextNode(id_='74c59459-d06d-4e0e-8169-7e18ec9980b8', embedding=None, metadata={}, excluded_embed_metadata_keys=[], excluded_llm_metadata_keys=[], relationships={<NodeRelationship.SOURCE: '1'>: RelatedNodeInfo(node_id='42d45115-ea47-41e3-9039-3b41d1ec555d', node_type=<ObjectType.DOCUMENT: '4'>, metadata={}, hash='59be1fe654e2497d0f7861d8e0d314acdb9005ee4e59de8312d37388e408cdca'), <NodeRelationship.PREVIOUS: '2'>: RelatedNodeInfo(node_id='id_c9ae03aa-9617-479e-b551-5835c074f8fb_374_table', node_type=<ObjectType.TEXT: '1'>, metadata={'table_df': \"{'Covered Reasons': {0: 'Unforeseen disease, illness, injury, or death of the Insured/Insured Immediate Family Member.', 1: 'When Insured’s Principal residence and/or his intended place of stay at destination is rendered uninhabitable due to Fire, flood, vandalism or natural disaster and also his place of business is rendered inoperative due to operation of said perils.', 2: 'The Insured and/or his immediate family member have become victim of Felonious Assault in the last 10 days prior to the departure date provided he/they are not principal or an accessory in such felonious assault.', 3: 'Inclement weather in the city or primary place of departure and/or at intended destination.', 4: 'Terrorist Attack in the home city and/or at departing station and/or destination listed on the insured’s itinerary 3 days prior to the Insured’s departure date and resulting that the Insured is unable to move out consequent upon such terrorist attack.', 5: 'War like situation with closing of air space at the primary place of departure and/or at intended destination.', 6: 'Civil Unrest, Riot and Strike in the home city and/or at departing station and/or intended destination of the Insured making the trip impossible.', 7: 'In the event of Refusal of Visa application by the concerned authority.'}, 'Description': {0: 'Disease, injury, or illness must be so disabling as to reasonably cause a trip to be cancelled or interrupted as supported by medical records and opinion acceptable to the Company.', 1: ' ', 2: ' ', 3: ' ', 4: ' ', 5: ' ', 6: 'Conditions apply', 7: 'Conditions apply'}}\", 'table_summary': 'This table provides a list of covered reasons for trip cancellation or interruption in an insurance policy. It includes specific conditions under which the insured can make a claim. The table should be kept.,\\nwith the following columns:\\n'}, hash='d490b6f68fe72cf9f9b5096a7a61a27d3dcbbb4352b53c601796395a0408066f'), <NodeRelationship.NEXT: '3'>: RelatedNodeInfo(node_id='id_c9ae03aa-9617-479e-b551-5835c074f8fb_382_table_ref', node_type=<ObjectType.INDEX: '3'>, metadata={'col_schema': 'Column: Element\\nType: string\\nSummary: Description of the coverage provided for different types of expenses related to identity theft incidents.'}, hash='686a249e91bd6278f416719ad7d16d9c53020f5a61b017cf61b752b31b87937a')}, text='Product Name: Travel infinity | Product UIN: NBHTGBP22011V012223\\n---\\n 9. In the event of delay in receipt of Visa from the concerned authority after the commencement of the cover\\n\\nprovided the insured has applied within the stipulated time and documentation as per the visa application norms set by the respective visa authority.\\n\\n Co-Payment:\\n\\nIt is also hereby agreed and declared that the Insured Person shall bear a co-payment of the 10% of the admissible claim amount in respect of each and every claim.\\n\\n 3.61 Identity Theft\\n\\nIf at any time during the policy period, the Insured Person shall incur expenses to resolve the Identity Theft, we shall reimburse the following expenses up to a maximum of the sum insured as mentioned in the Certificate of Insurance:', start_char_idx=1, end_char_idx=767, text_template='{metadata_str}\\n\\n{content}', metadata_template='{key}: {value}', metadata_seperator='\\n'), score=0.8044703077095678), NodeWithScore(node=TextNode(id_='35e31081-fe19-41ca-9806-c9d8b33720ac', embedding=None, metadata={}, excluded_embed_metadata_keys=[], excluded_llm_metadata_keys=[], relationships={<NodeRelationship.SOURCE: '1'>: RelatedNodeInfo(node_id='1ccdefb6-9a29-48a9-b0e1-302739e088f4', node_type=<ObjectType.DOCUMENT: '4'>, metadata={}, hash='fbd765ab11ec8f1bed85e7827a3b2212e89ed91dbd6c98f6ee9c3fd6b0af7c8c'), <NodeRelationship.PREVIOUS: '2'>: RelatedNodeInfo(node_id='id_c9ae03aa-9617-479e-b551-5835c074f8fb_272_table', node_type=<ObjectType.TEXT: '1'>, metadata={'table_df': \"{'Equipment age': {0: 'Applicable depreciation'}, 'Up to 1 year': {0: '50%'}, 'Up to 2 years': {0: '70%'}, 'Up to 3 years': {0: '75%'}, 'Up to 4 years': {0: '80%'}, 'Up to 5 years': {0: '90%'}, 'More than 5 years': {0: '95%'}}\", 'table_summary': 'This table shows the applicable depreciation rates based on the age of equipment.,\\nwith the following table title:\\nApplicable Depreciation Rates Based on Equipment Age,\\nwith the following columns:\\n- Equipment age: Categories of equipment age\\n- Up to 1 year: Depreciation rate for equipment up to 1 year old\\n- Up to 2 years: Depreciation rate for equipment up to 2 years old\\n- Up to 3 years: Depreciation rate for equipment up to 3 years old\\n- Up to 4 years: Depreciation rate for equipment up to 4 years old\\n- Up to 5 years: Depreciation rate for equipment up to 5 years old\\n- More than 5 years: Depreciation rate for equipment older than 5 years\\n'}, hash='85132f69bccadd3cd6fba431b4026c3b9bcf49939b37bd150684d6934c2a4754'), <NodeRelationship.NEXT: '3'>: RelatedNodeInfo(node_id='id_c9ae03aa-9617-479e-b551-5835c074f8fb_280_table_ref', node_type=<ObjectType.INDEX: '3'>, metadata={'col_schema': 'Column: Reasons\\nType: text\\nSummary: None\\n\\nColumn: Conditions\\nType: text\\nSummary: None'}, hash='f0bf137f6d3aeae56abf657cb2c5c7d13939054f6063afbc826c9d18ee1ed522')}, text='Special conditions\\n\\n1. You shall ensure the safety of sports equipment at all times\\n2. You shall not pass on sports equipment to third parties.\\n3. The complete payment of sports equipment has been made by and you have the invoice for the equipment\\n4. The equipment is NOT insured\\n5. If there is a compensation amount paid by the common carrier for Delay/loss, that amount will be deducted from the claim amount payable under this cover.\\n6. This cover is not available for people who are traveling overseas on student visa for full-time college or school education.\\n\\nClaim deductible- As shown on your certificate of insurance\\n\\nWhat is not covered (in addition to General exclusions- Section 4):\\n\\n1. Loss, delay or confiscation or detention by customs, police or public authorities.\\n2. Any loss or theft, if you do not report it to the police within 24 hours of discovery or as soon as reasonably possible and request a written police report\\n\\n Sports Activity Coverage\\n\\nWe will reimburse for pe unused portion of pe sports activity which you had already paid for or had contracted to pay (minus refunds) in case\\n\\nConditions:\\n\\n1. You fall ill and a medical practitioner has advised you to refrain from taking part in the sports activities\\n2. You are hospitalized\\n3. You have to cut short your trip and return to the origin city\\n\\nSpecial conditions\\n\\n1. Reason for Hospitalization is admissible under “emergency inpatient medical treatment” or “emergency inpatient medical treatment with OPD” cover of this Policy\\n2. Reason for cutting short your trip is admissible under “trip interruption” cover of this policy\\n3. This cover is not available for people who are traveling overseas on a student visa for full-time college or school education.\\n\\nClaim deductible- The claim deductible is as shown on your certificate of insurance\\n\\n Loan Protector\\n\\nProduct Name: Travel infinity | Product UIN: NBHTGBP22011V012223\\n---\\n Emergency Trip Extension\\n\\nIf duration of your trip is extended beyond the scheduled dates because of reasons mentioned below then we will extend period of insurance once for a period of up to days as mentioned in certificate of insurance', start_char_idx=1, end_char_idx=2150, text_template='{metadata_str}\\n\\n{content}', metadata_template='{key}: {value}', metadata_seperator='\\n'), score=0.8029287104902333), NodeWithScore(node=TextNode(id_='aa6bf34c-6e0f-459e-90f0-c0bb98de73ac', embedding=None, metadata={}, excluded_embed_metadata_keys=[], excluded_llm_metadata_keys=[], relationships={<NodeRelationship.SOURCE: '1'>: RelatedNodeInfo(node_id='c0a8a3c5-094f-42ab-8fa7-07e67e4dd0b0', node_type=<ObjectType.DOCUMENT: '4'>, metadata={}, hash='082dab98d291dabdcd89f05d23f1101847a8fc7a1a2fc00748fd08a416313dc8'), <NodeRelationship.PREVIOUS: '2'>: RelatedNodeInfo(node_id='id_c9ae03aa-9617-479e-b551-5835c074f8fb_314_table', node_type=<ObjectType.TEXT: '1'>, metadata={'table_df': \"{'1.': {0: 2.0}, 'Starting of the Journey from Home (or any intermediate place) at the Country of Residence to the Airport for duration of 6 hours before the Scheduled departure time of the Common Carrier': {0: 'Return journey from the Airport to Home (or any intermediate place) after de-boarding the Common Carrier at the Country of Residence for duration of 6 hours after the Actual arrival time'}}\", 'table_summary': 'This table outlines the duration of travel activities related to departing from and returning to the airport in the context of a journey from home to the airport and back.,\\nwith the following table title:\\nTravel Activities Duration Table,\\nwith the following columns:\\n- Activity: None\\n- Duration: None\\n'}, hash='2064688554abb0c4b085d3675bf5403527431ba43d9362e50503a1e9f4d285d7'), <NodeRelationship.NEXT: '3'>: RelatedNodeInfo(node_id='id_c9ae03aa-9617-479e-b551-5835c074f8fb_326_table_ref', node_type=<ObjectType.INDEX: '3'>, metadata={'col_schema': 'Column: Equipment age\\nType: string\\nSummary: Age categories of equipment\\n\\nColumn: Up to 1 year\\nType: string\\nSummary: Depreciation rate for equipment up to 1 year old\\n\\nColumn: Up to 2 years\\nType: string\\nSummary: Depreciation rate for equipment up to 2 years old\\n\\nColumn: Up to 3 years\\nType: string\\nSummary: Depreciation rate for equipment up to 3 years old\\n\\nColumn: Up to 4 years\\nType: string\\nSummary: Depreciation rate for equipment up to 4 years old\\n\\nColumn: Up to 5 years\\nType: string\\nSummary: Depreciation rate for equipment up to 5 years old\\n\\nColumn: More than 5 years\\nType: string\\nSummary: Depreciation rate for equipment older than 5 years'}, hash='5fbb8b65bc1a6d6cbb69bbcab973502d03de3335da1bf732f82d4d4e29835bd7')}, text=\"You should inform the Company immediately if you suffer an illness or injury and which occurs within the duration specified in this Benefit\\n\\nSpecial conditions-\\n\\n- This cover is not available for people who are traveling overseas on student visa for full time college or school education\\n\\n What is not covered (in addition to General exclusions- Section 4)- Any exclusion mentioned in “what is not covered?” section of “emergency inpatient medical treatment”, “emergency inpatient medical treatment with OPD”, “emergency outpatient treatment” and “personal accident” cover of this policy\\n\\n 3.43 Political risk and catastrophe evacuation\\n\\nWe shall reimburse the cost of travel expenses to the City of Origin or nearest place of safety up to the cost of an economy class air ticket (one way) and reasonable accommodation expenses, if incurred for a maximum of 7 days or Sum Insured specified in the Certificate of insurance if insured is unable to return to his City of Origin when Officials in the country/city/state where insured is visiting, recommend that certain categories of persons which include the Insured should leave the country/state/city or Insured is expelled from or declared persona non grata in the country/state/city he/she is in.\\n\\nA Catastrophe (fire, flood, earthquake, Tsunami, Volcano Eruption, Strom, hurricane or epidemic due to contagious disease) has occurred in the country/state/city the insured is in, necessitating his immediate evacuation in order to avoid risk of personal injury or illness to himself\\n\\nIn event of any of the contingencies covered hereunder occurring at the place Insured is visiting any time after the commencement of the trip and before the termination of the same, immediate notice thereof shall be given by insured to Medical Emergency Assistance provider or to Us.\\n\\nOur liability to make payment is only in excess of the Deductible as specified in Certificate of insurance\\n\\nProduct Name: Travel infinity | Product UIN: NBHTGBP22011V012223\\n---\\n Specific Exclusions applicable to Political Risk and Catastrophe Evacuation:\\n\\nThe Company shall not be liable to make any payment under this benefit in connection with or in respect of any expenses whatsoever incurred by the Insured Person for:\\n\\n- Insured Violating the laws or regulations of the country from which he/she is to be evacuated\\n- Failure to produce or maintain immigration, work, residence or similar visas, permits or other documentation\\n- Failure to honor any contractual obligation or bond or too be any conditional license.\\n- Insured being a national of the country from which he is to be evacuated\\n- Circumstances that resulted in the Insured’s evacuation being in existence prior to the Insured entering the country or their occurrence being foreseeable to a reasonable person before the insured entered the country\\n- Any exclusion mentioned in the 'General Exclusions' section of this Policy.\\n\\n Colleague Replacement\\n\\nIf an Insured Person is Hospitalized then We will reimburse the cost of an economy class return air fare to send a substitute person to complete the business purpose for which the Insured Person was travelling provided that:\\n\\n1. Insured Person’s Hospitalization lasts for a period of at least 7 consecutive days\\n2. Insured Person’s travel was for a pre-arranged specific and specified business purpose\\n3. The substitute employee commences his journey within 30 days from the date of Hospitalization of the Insured Person\\n4. Substitute employee is in fact an employee and a proper substitute for the Hospitalized Insured Person\\n\\nSpecial conditions:\\n\\n1. This cover is not available for people who are traveling overseas on student visa for full-time college or school education\\n2. This cover is not applicable for domestic travel insurance policies\\n\\n Loss of Laptop, Tablet, Mobile Phone, Camera\\n\\nWe will provide coverage up to the sum insured mentioned in the policy schedule, only in the case of robbery, theft, or if the belonging was stolen.\\n\\nTwo options are available for claims payment under this benefit:\\n\\n1. We will pay a fixed amount for the loss\\n2. We will indemnify the depreciated value. Depreciation value to be calculated basis below table\", start_char_idx=1, end_char_idx=4188, text_template='{metadata_str}\\n\\n{content}', metadata_template='{key}: {value}', metadata_seperator='\\n'), score=0.7986748567549974), NodeWithScore(node=TextNode(id_='72f16e34-a5f8-4b61-a688-84bad8ee5593', embedding=None, metadata={}, excluded_embed_metadata_keys=[], excluded_llm_metadata_keys=[], relationships={<NodeRelationship.SOURCE: '1'>: RelatedNodeInfo(node_id='63a2f09b-96e1-454a-b5be-e735aa66882b', node_type=<ObjectType.DOCUMENT: '4'>, metadata={}, hash='ac9082ec27698a85951ad7093a02b5039cc2871bab3f901b7169f7adc9d400a0'), <NodeRelationship.PREVIOUS: '2'>: RelatedNodeInfo(node_id='66d32c05-8825-4037-92ed-81f6bc6dbbec', node_type=<ObjectType.TEXT: '1'>, metadata={}, hash='a6e293d64bef94d0179da367b610742f2724ea725071e56c209b5a2a910d1328'), <NodeRelationship.NEXT: '3'>: RelatedNodeInfo(node_id='id_c9ae03aa-9617-479e-b551-5835c074f8fb_340_table_ref', node_type=<ObjectType.INDEX: '3'>, metadata={'col_schema': 'Column: S. No\\nType: Number\\nSummary: None\\n\\nColumn: Description\\nType: Text\\nSummary: None'}, hash='28f4266478ff75b5c4c7d0caa5020e94818e5f4a0ccb1006a83ab8d13cbab2da')}, text='Additionally, the company shall also reimburse the difference of cost between the originally booked flight for scheduled journey which could not be undertaken and the alternate flight arrangements made by the insured.\\n\\nOur liability to make payment is only in excess of the Deductible as specified in Certificate of insurance/certificate of insurance and as stated in the schedule of cover. A Deductible as mentioned in the Certificate of insurance shall be separately applicable for each and every claim made under this Benefit.\\n\\nSpecific Exclusion applicable to Emergency Accommodation Coverage:\\n\\nProduct Name: Travel infinity | Product UIN: NBHTGBP22011V012223\\n---\\n Travel Loan Secure\\n\\nWe shall indemnify the Insured Person, in case the Insured Person has borrowed, for the purpose of this Trip, from an NBFC/Bank or any other entity authorized by relevant authorities in India. Indemnity shall be provided to the extent of Principal Outstanding amount at the time of loss or Sum Insured as mentioned in the Certificate of Insurance whichever is lower, due to the following perils:', start_char_idx=7844, end_char_idx=8928, text_template='{metadata_str}\\n\\n{content}', metadata_template='{key}: {value}', metadata_seperator='\\n'), score=0.798158317504821), NodeWithScore(node=TextNode(id_='14f6c7e7-6a32-4b0b-8839-a7ef2693fa2a', embedding=None, metadata={}, excluded_embed_metadata_keys=[], excluded_llm_metadata_keys=[], relationships={<NodeRelationship.SOURCE: '1'>: RelatedNodeInfo(node_id='3f7e9afb-aa60-4de0-b7b7-542c478fb560', node_type=<ObjectType.DOCUMENT: '4'>, metadata={}, hash='538b197193a66b85ccc05eb2e2ee4025ddff0465b9ab598b01f63b96c881de3b'), <NodeRelationship.PREVIOUS: '2'>: RelatedNodeInfo(node_id='id_c9ae03aa-9617-479e-b551-5835c074f8fb_304_table', node_type=<ObjectType.TEXT: '1'>, metadata={'table_df': \"{'1.': {0: 2.0}, 'Insured Person has been charged with breaking the law with any criminal intent.': {0: 'Insured Person has been charged with driving a vehicle at over the speed limit.'}}\", 'table_summary': 'The table provides information on charges against the Insured Person related to breaking the law with criminal intent and driving a vehicle over the speed limit.,\\nwith the following columns:\\n- Insured Person has been charged with breaking the law with any criminal intent.: None\\n- Insured Person has been charged with driving a vehicle at over the speed limit.: None\\n'}, hash='56e7e21fec8af3c54a7e2e7ecaa0c638ae831868cfe194dac7aa90d754a5f476'), <NodeRelationship.NEXT: '3'>: RelatedNodeInfo(node_id='id_c9ae03aa-9617-479e-b551-5835c074f8fb_314_table_ref', node_type=<ObjectType.INDEX: '3'>, metadata={'col_schema': 'Column: Activity\\nType: Text\\nSummary: None\\n\\nColumn: Duration\\nType: Numeric\\nSummary: None'}, hash='a8dad8495dd1b58b9c7a5fc2f21961225ece0348599a70e55224dd70f486b656')}, text='3.39 Waiver of deductible\\n\\nBy selecting this cover, deductibles applicable under each cover of this policy will be waived off.\\n\\n 3.40 Optional co-payment\\n\\nBy selecting this cover, co-payment of 20% will be applicable to all the payable/admissible claims under this policy.\\n\\n 3.41 Refund of Visa Fee\\n\\nWe will pay for re-imbursement of Visa fee if your Visa got rejected for no fault or negligence on your part provided that you had submitted all the valid documents in order as directed by the Embassy of the respective Country for which the Visa is being applied and Visa application should be filed with the respective Embassy well in advance and as per the prescribed processing time, if any.\\n\\nSpecial conditions-\\n\\n- This cover is not available for multi-trip policies and people who are traveling overseas on student visa for full time college or school education\\n- This cover is not applicable for domestic travel insurance policies\\n\\n 3.42 Home to home cover\\n\\nWe will extend the Coverage before /beyond the Period of Insurance for In-Patient treatment, Out-Patient and Personal Accident up to the sum Insured for the following:', start_char_idx=2, end_char_idx=1133, text_template='{metadata_str}\\n\\n{content}', metadata_template='{key}: {value}', metadata_seperator='\\n'), score=0.7978588226702171), NodeWithScore(node=TextNode(id_='37b609a8-4475-45f2-9b97-edfe268fd5e3', embedding=None, metadata={}, excluded_embed_metadata_keys=[], excluded_llm_metadata_keys=[], relationships={<NodeRelationship.SOURCE: '1'>: RelatedNodeInfo(node_id='34b49c7a-343f-46b6-bc9c-1896358bf944', node_type=<ObjectType.DOCUMENT: '4'>, metadata={}, hash='26d086dc14776df321a118438c2c7487f17666fabd705d34d56cd79022f42e1f'), <NodeRelationship.PREVIOUS: '2'>: RelatedNodeInfo(node_id='id_c9ae03aa-9617-479e-b551-5835c074f8fb_660_table', node_type=<ObjectType.TEXT: '1'>, metadata={'table_df': \"{'Benefit': {0: 'Independent SI'}, 'USD 100 to 1000 in multiples of 100': {0: ' '}, 'NIL': {0: ' '}}\", 'table_summary': 'This table provides information on benefits ranging from USD 100 to 1000 in multiples of 100 for Independent SI, with a NIL value.,\\nwith the following table title:\\nBenefit,\\nwith the following columns:\\n- Benefit: Information on benefits in USD\\n- Independent SI: Information on Independent SI\\n- NIL: NIL value\\n'}, hash='d2f4bb069b0cf5171207b36307d0de5fbcbb662e14158a78a0de8470487520c2'), <NodeRelationship.NEXT: '3'>: RelatedNodeInfo(node_id='id_c9ae03aa-9617-479e-b551-5835c074f8fb_664_table_ref', node_type=<ObjectType.INDEX: '3'>, metadata={'col_schema': ''}, hash='47f94ad1294d90a9ccc4a5a5d38321fe121398012a62cf5d0be196efdacf2d0c')}, text='14 Delay of Checked-in Baggage', start_char_idx=2, end_char_idx=32, text_template='{metadata_str}\\n\\n{content}', metadata_template='{key}: {value}', metadata_seperator='\\n'), score=0.7966614023013887), NodeWithScore(node=TextNode(id_='07395fb1-8bae-4160-9287-5ceed29f1070', embedding=None, metadata={}, excluded_embed_metadata_keys=[], excluded_llm_metadata_keys=[], relationships={<NodeRelationship.SOURCE: '1'>: RelatedNodeInfo(node_id='0e25fdab-4d4a-441d-9d0c-8d8ce2a95b28', node_type=<ObjectType.DOCUMENT: '4'>, metadata={}, hash='9b9e97e0236602ea3252d553b6ec6544903da40692000b0164a06ec2a3513b09'), <NodeRelationship.PREVIOUS: '2'>: RelatedNodeInfo(node_id='id_c9ae03aa-9617-479e-b551-5835c074f8fb_680_table', node_type=<ObjectType.TEXT: '1'>, metadata={'table_df': \"{'Indemnity': {0: ' ', 1: ' '}, 'multiple of 500 till 10000': {0: ' ', 1: 'USD 500, 750, 1000. Post that in'}, '0/500/100': {0: 'Independent SI', 1: 'NIL/100/25'}}\", 'table_summary': 'This table outlines the indemnity amounts based on multiples of 500 up to 10000 for Independent SI in USD. It also specifies the corresponding values for NIL, 100, and 25 post USD 1000.,\\nwith the following table title:\\nIndemnity Amounts for Independent SI,\\nwith the following columns:\\n- Indemnity: Indemnity amounts based on multiples of 500 up to 10000 for Independent SI in USD.\\n- Independent SI: Corresponding values for NIL, 100, and 25 post USD 1000.\\n'}, hash='3d041595e000c8525219bcf2ada597a2c7c759ac673ea03459852200ba8c2970'), <NodeRelationship.NEXT: '3'>: RelatedNodeInfo(node_id='id_c9ae03aa-9617-479e-b551-5835c074f8fb_684_table_ref', node_type=<ObjectType.INDEX: '3'>, metadata={'col_schema': 'Column: Benefit\\nType: multiple of 500 till 5000\\nSummary: Details on the benefits associated with multiples of 500 up to 5000\\n\\nColumn: 0/500/100\\nType: Independent SI\\nSummary: Information on the benefits for Independent SI'}, hash='70a9a29dfae7370c55c32050264b4a183f50faf508972c8ad2611de220102077')}, text='17.2 Trip Interruption Benefit', start_char_idx=2, end_char_idx=32, text_template='{metadata_str}\\n\\n{content}', metadata_template='{key}: {value}', metadata_seperator='\\n'), score=0.7962611931161586), NodeWithScore(node=TextNode(id_='5ef73bed-e09a-41e8-bbba-066b97b0658e', embedding=None, metadata={}, excluded_embed_metadata_keys=[], excluded_llm_metadata_keys=[], relationships={<NodeRelationship.SOURCE: '1'>: RelatedNodeInfo(node_id='47b0d1e2-54d0-432e-9a77-16c1802404ef', node_type=<ObjectType.DOCUMENT: '4'>, metadata={}, hash='3ed41d5f0e9703c51d6cfa6441b59f7cf18fd7a78df636fc6cd960f3c72fa57b'), <NodeRelationship.PREVIOUS: '2'>: RelatedNodeInfo(node_id='c528fa9f-6807-4146-9b41-f2553d5d1464', node_type=<ObjectType.TEXT: '1'>, metadata={}, hash='900f768cdb4cf0aef25dc2c7cca622dbd7a7eb465d79270539561ea4d2f4fbf0'), <NodeRelationship.NEXT: '3'>: RelatedNodeInfo(node_id='id_c9ae03aa-9617-479e-b551-5835c074f8fb_374_table_ref', node_type=<ObjectType.INDEX: '3'>, metadata={'col_schema': ''}, hash='788007275f98e912cf45e75d019cbbf56829ecf2e65cc52b3995a3e609bc7852')}, text='Rental Car Reimbursement\\n\\nWe will cover the reasonable cost of a rental car if your vehicle keys are lost or stolen and it will take more than 24 hours to replace them.\\n\\n Specific Exclusions applicable to Key Replacement:\\n\\n- Costs other than those listed above\\n- Costs associated with lost or stolen keys for a residence other than your primary residence\\n- The cost to replace keys to vehicles that you do not own for personal use\\n\\n Specific Conditions applicable to Key Replacement:\\n\\n1. For break-in protection claims, you must provide an official police report that indicates the incident happened within the covered time frame in order for us to pay the claim; unless you are legally incapable of doing so.\\n2. This cover is not available for people who are traveling overseas on student visa for full-time college or school education.\\n\\n Change Fee Coverage\\n\\nWe shall reimburse to the Insured Person, the difference in the fare and the rescheduling charges charged by the Common Carrier to change the Travel dates up to a maximum of the Sum Insured subject to the Co-payment as mentioned in the Certificate of Insurance provided, the trip is cancelled or interrupted for a covered reason as stated below:', start_char_idx=3853, end_char_idx=5059, text_template='{metadata_str}\\n\\n{content}', metadata_template='{key}: {value}', metadata_seperator='\\n'), score=0.7959128308223641), NodeWithScore(node=TextNode(id_='fb7fb097-bb1b-49d8-b0c1-a9afbae08c46', embedding=None, metadata={}, excluded_embed_metadata_keys=[], excluded_llm_metadata_keys=[], relationships={<NodeRelationship.SOURCE: '1'>: RelatedNodeInfo(node_id='bea48781-00e9-4fd5-bfaa-21f01ed79274', node_type=<ObjectType.DOCUMENT: '4'>, metadata={}, hash='20c6244b199539d38402e07abcf9f1fd2ab5d368f4bc51cd08e3b8fc44faca6b'), <NodeRelationship.PREVIOUS: '2'>: RelatedNodeInfo(node_id='id_c9ae03aa-9617-479e-b551-5835c074f8fb_656_table', node_type=<ObjectType.TEXT: '1'>, metadata={'table_df': \"{'Indemnity': {0: ' '}, '3Lac, 5Lac': {0: 'Independent SI'}}\", 'table_summary': 'This table provides information on different indemnity amounts, specifically 3Lac and 5Lac, in relation to Independent SI.,\\nwith the following table title:\\nIndemnity Amounts and Independent SI,\\nwith the following columns:\\n- Indemnity: Different indemnity amounts, such as 3Lac and 5Lac\\n- Independent SI: Information related to Independent SI\\n'}, hash='4a7dcb9cec4b5c47f33d2ee52739b83ab523cce697a0e71a54208fccfea42f1c'), <NodeRelationship.NEXT: '3'>: RelatedNodeInfo(node_id='id_c9ae03aa-9617-479e-b551-5835c074f8fb_660_table_ref', node_type=<ObjectType.INDEX: '3'>, metadata={'col_schema': 'Column: Benefit\\nType: USD 100 to 1000 in multiples of 100\\nSummary: Information on benefits in USD\\n\\nColumn: Independent SI\\nType: \\nSummary: Information on Independent SI\\n\\nColumn: NIL\\nType: \\nSummary: NIL value'}, hash='9190a9cde08d6b08b44147dd4d01beb0e8b9e5cf1de45eac6052481fced9db48')}, text='13 Total Loss of Checked-in Baggage', start_char_idx=2, end_char_idx=37, text_template='{metadata_str}\\n\\n{content}', metadata_template='{key}: {value}', metadata_seperator='\\n'), score=0.7941600075074985), NodeWithScore(node=TextNode(id_='a604f4c3-cb7a-45f1-9d7a-02ed623d20bf', embedding=None, metadata={}, excluded_embed_metadata_keys=[], excluded_llm_metadata_keys=[], relationships={<NodeRelationship.SOURCE: '1'>: RelatedNodeInfo(node_id='a7962522-b7ed-483b-87e5-8271fc792437', node_type=<ObjectType.DOCUMENT: '4'>, metadata={}, hash='60dafebc09b5036c62d411cc81b513b4e2109996a2a7c44cb104f18a7f18a922'), <NodeRelationship.PREVIOUS: '2'>: RelatedNodeInfo(node_id='id_c9ae03aa-9617-479e-b551-5835c074f8fb_744_table', node_type=<ObjectType.TEXT: '1'>, metadata={'table_df': \"{'Indemnity': {0: ' '}, 'USD 500, 1000, 1500 2000': {0: ' '}, 'Nil/100': {0: 'Independent SI'}}\", 'table_summary': 'This table provides information on Indemnity amounts in USD for different levels and conditions.,\\nwith the following table title:\\nIndemnity Amounts in USD,\\nwith the following columns:\\n- Indemnity: None\\n- 500, 1000, 1500 2000: None\\n- Nil/100: None\\n'}, hash='37e9846986a1a8cd1c3b035b0f3c13126e83077d21768d8ce295cbefa670184d'), <NodeRelationship.NEXT: '3'>: RelatedNodeInfo(node_id='id_c9ae03aa-9617-479e-b551-5835c074f8fb_748_table_ref', node_type=<ObjectType.INDEX: '3'>, metadata={'col_schema': 'Column: Indemnity\\nType: USD\\nSummary: None\\n\\nColumn: 500, 1000, 1500, 2000\\nType: USD\\nSummary: None\\n\\nColumn: Nil/100\\nType: Percentage\\nSummary: None'}, hash='1020f75901f80defa38efa7ee8be8e3a0a5ab0f0f3e38f734b2fb731a225b0e2')}, text='29 Rented sports equipment damage or loss Indemnity', start_char_idx=2, end_char_idx=53, text_template='{metadata_str}\\n\\n{content}', metadata_template='{key}: {value}', metadata_seperator='\\n'), score=0.7936404459865468), NodeWithScore(node=TextNode(id_='061c8b3f-c47d-4b98-bb88-553ba9e57a32', embedding=None, metadata={}, excluded_embed_metadata_keys=[], excluded_llm_metadata_keys=[], relationships={<NodeRelationship.SOURCE: '1'>: RelatedNodeInfo(node_id='63e9e60f-9a80-4f5f-9e34-e8b3f6f77214', node_type=<ObjectType.DOCUMENT: '4'>, metadata={}, hash='17ec43d23ecc54faff4c0c6a6d86bec0ed73647bc6ded0c411168a1c7321c068'), <NodeRelationship.NEXT: '3'>: RelatedNodeInfo(node_id='85e90065-e663-4328-89b8-b8c817945e17', node_type=<ObjectType.TEXT: '1'>, metadata={}, hash='52fe8844604dab618dde46d9602218fcdd51d3d5ae19907fc4c4d94e6a364b83'), <NodeRelationship.PREVIOUS: '2'>: RelatedNodeInfo(node_id='id_c9ae03aa-9617-479e-b551-5835c074f8fb_226_table', node_type=<ObjectType.TEXT: '1'>, metadata={'table_df': \"{'1.': {0: 2.0}, 'Any such loss should immediately be reported to the police of the foreign country within 24 hours and to Us within 48 hours.': {0: 'This cover is not applicable for domestic travel insurance policies'}}\", 'table_summary': 'This table outlines the conditions and limitations of a travel insurance policy, including reporting requirements for losses and exclusions for domestic travel policies.,\\nwith the following table title:\\nConditions and Limitations of Travel Insurance Policy,\\nwith the following columns:\\n- Condition: None\\n'}, hash='9f5306a743755d4daba7f53217d65c0fbfde0b106d7d9e10a2bfa1474275c7ee')}, text='What is not covered (in addition to General exclusions- Section 4)?\\n\\n1. Any loss of Money that was not in the personal custody of the Insured Person\\n2. Any loss of Money in respect of which a claim is made only after the Insured Person has already returned to India.\\n\\n Personal Liability\\n\\nWe will cover costs incurred for:\\n\\n1. Your actual legal liability for unintentional injury, property damage or death that you cause during your travel.\\n2. All costs, fees and expenses in the investigation, defence or settlement of any claim.\\n\\n Special conditions\\n\\n1. You shall:\\n- give Us written notice within 10 days of any claim or demand made against you\\n- not admit liability/ settle/ compromise/ make any payment without Our prior written consent.\\n- Allow Us, in Our sole and absolute discretion, to take over and conduct investigation, defence and/or settlement of any claim. You shall provide all the cooperation and assistance We may require. Having taken over the defence of any claim, We may in Our sole and absolute discretion relinquish the same.\\n2. We will not settle any claim without your consent. But if you refuse settlement recommended by Us and choose to contest or continue any legal proceedings, then Our liability will not exceed the amount for which the claim could have been settled plus the defence costs incurred with Our consent up to the date of such refusal.\\n3. For us to cover the costs, claim shall be made on you by the third parties during the Period of Insurance or within 60 days from the date of expiry of the insurance.\\n\\n Claim deductible-\\n\\nThe claim deductible is as shown on your certificate of insurance\\n\\n What is not covered (in addition to General exclusions- Section 4)?\\n\\n1. Any fines or exemplary damages aimed at punishing you rather than awarding compensation to third party\\n2. Liability arising from:\\n- Violation of operating/safety guidelines published by the service provider contracted by you.\\n- Action of any type by any other person accompanying you.\\n- Loss of or damage to property which belongs to you or is under your control or the control of a member of your household or the control of people who work for you.\\n- Your job/profession/professional activities/trade/business/employment or occupation.\\n- Any willful, malicious, criminal or unlawful act, error, or omission.\\n- Liability assumed by you by an agreement / contract which would not have attached in the absence of such agreement / contract.\\n---\\n Personal Liability Exclusions:\\n\\na. Personal injuries including but not limited to libel, slander, false arrest, sexual molestation, corporal punishment, wrongful eviction, wrongful detention, defamation, any mental injury, anguish, or shock resulting therefore.\\n\\nb. Ownership and / or Occupation of any land and / or building, unless you are occupying any temporary holiday accommodation, which is not owned by you.\\n\\nc. Ownership and / or Usage of any of the following:\\n\\ni. livestock (except domestic animals);\\nii. firearms (except sporting guns used for clay-pigeon shooting);\\niii. motorized vehicles, aircraft of any description, including unpowered flight\\niv. vessels (except manually–propelled watercraft); or\\n\\nd. Your participation in any leisure activity or activity based holiday or adventure sports where Personal Liability is specifically excluded.\\n\\ne. Transmission of illness or disease by the insured\\n\\nf. Any family member, relative, friend, travel companion or close business associate\\n\\n Any Claim Conditions:\\n\\nAny Claim paid or compromised or commitment made without our prior written consent\\n\\n 3.23 Hijack Daily Allowance\\n\\nIf the aircraft in which an Insured Person is travelling as a fare paying passenger during the Risk Period is Hijacked and the journey is interrupted for a continuous and completed period of hours as mentioned in Certificate of insurance, then We will pay the daily allowance specified in the certificate of Insurance.\\n\\n Special conditions\\n\\n1. Claim will be provided for a maximum duration of 7 days\\n2. Clause 1 of General exclusions (Section 4) stand waived for this benefit\\n\\n What is not covered (in addition to General exclusions- Section 4)?\\n\\n1. Any claim where the Insured person is considered as accessory or is in anyway involved with the Hijacking.\\n2. Any claim as a consequence of change in the direction of the route of the aircraft due to security reasons\\n\\n 3.24 Bounced Booking- Hotel/ Common Carrier\\n\\nIf Accommodation provider/ Common Carrier is unable to honor your confirmed bookings (pre-paid or contracted to pay) due to overbooking then we will provide coverage up to sum insured mentioned in certificate of insurance\\n\\n Two options are available for claims payment under this benefit\\n\\n1. we will reimburse difference of cost in original booking and alternate booking\\n2. we will pay a fixed amount as mentioned in certificate of insurance\\n\\n Special conditions\\n\\n1.', start_char_idx=2, end_char_idx=4870, text_template='{metadata_str}\\n\\n{content}', metadata_template='{key}: {value}', metadata_seperator='\\n'), score=0.7905954918098413)]\n"
     ]
    }
   ],
   "source": [
    "query_1 = \"My trip was delay and I paid 45, how much am I cover for?\"\n",
    "\n",
    "response_1 = query_engine.query(query_1)\n",
    "print(response_1)"
   ]
  },
  {
   "cell_type": "markdown",
   "metadata": {},
   "source": [
    "The information is split across the document which leads to retrieval issues. Let's try some parsing instructions to improve our result."
   ]
  },
  {
   "cell_type": "code",
   "execution_count": 39,
   "metadata": {},
   "outputs": [
    {
     "name": "stdout",
     "output_type": "stream",
     "text": [
      "Started parsing the file under job_id c4e13f59-d6e8-4dd7-8d60-4bb7cfa1ad52\n",
      "...."
     ]
    }
   ],
   "source": [
    "documents_with_instruction = LlamaParse(result_type=\"markdown\", parsing_instruction=\"\"\"\n",
    "This document is an insurance policy.\n",
    "When a benefits/coverage/exlusion is describe in the document ammend to it add a text in the follwing benefits string format (where coverage could be an exclusion).\n",
    "\n",
    "For {nameofrisk} and in this condition {whenDoesThecoverageApply} the coverage is {coverageDescription}. \n",
    "                                        \n",
    "If the document contain a benefits TABLE that describe coverage amounts, do not ouput it as a table, but instead as a list of benefits string.\n",
    "                                       \n",
    "\"\"\").load_data(\"./policy.pdf\")"
   ]
  },
  {
   "cell_type": "markdown",
   "metadata": {},
   "source": [
    "Let see how the 2 parsing compare (change target page to explore)"
   ]
  },
  {
   "cell_type": "code",
   "execution_count": 40,
   "metadata": {},
   "outputs": [
    {
     "name": "stdout",
     "output_type": "stream",
     "text": [
      "## Inpatient treatment\n",
      "\n",
      "Claim Form (filled and signed by pe Insured)\n",
      "Hospital Daily Cash\n",
      "Release of Medical information Form (filled and signed by pe Insured)\n",
      "Waiver of Deductible\n",
      "Original papological and diagnostic reports, discharge summary indoor case papers (if any) and prescriptions issued by pe treating Medical practitioner or Network Provider\n",
      "Optional Co-payment\n",
      "Adventure Sports Cover\n",
      "Home to Home Cover\n",
      "Passport and Visa copy wip Entry Stamp of Country of Visit and exit Stamp from India\n",
      "Extension to in-patient care\n",
      "Ambulance Charge\n",
      "FIR report of police (if applicable)\n",
      "\n",
      "## Out-patient treatment\n",
      "\n",
      "Cancer Screening & Mammographic Examination\n",
      "Original bills and receipts for:\n",
      "1. Charges paid towards Hospital accommodation, nursing facilities, and oper medical services rendered\n",
      "2. Fees paid to pe Medical Practitioner and for special nursing charges\n",
      "3. Charges incurred towards any and all test and / or examinations rendered in connection wip pe treatment\n",
      "4. Charges incurred towards medicines or drugs purchased from a registered pharmacy oper pan pe Network provider duly supported by pe prescriptions of pe Medical Practitioner attending to pe Insured Person\n",
      "5. Any oper document as required by pe Company to assist pe Claim\n",
      "\n",
      "## Medical evacuation\n",
      "\n",
      "Medical reports and transportation details issued by the evacuation agency, prescriptions and medical report by the attending Medical Practitioner furnishing the name of the Insured Person and details of treatment rendered along with the statement confirming the necessity of evacuation.\n",
      "\n",
      "Documentary proof for expenses incurred towards the Medical Evacuation.\n",
      "\n",
      "## Compassionate visit\n",
      "\n",
      "A certificate from the Medical Practitioner recommending the presence in the form of special assistance to be rendered by an additional member during the entire period of hospitalization. The certificate shall also specify the minimum period in which person is admitted in the hospital.\n",
      "\n",
      "Discharge summary of the Hospital furnishing details including the date of admission and date of discharge.\n",
      "\n",
      "Stamped boarding pass with invoice used for the travel by the Immediate Family Member.\n",
      "\n",
      "Copy passport of Immediate Family Member with entry and exit stamp.\n",
      "\n",
      "## Escort of Minor Child\n",
      "\n",
      "A certificate from the Medical Practitioner specifying the minimum period of Hospitalization.\n",
      "\n",
      "Discharge summary of the Hospital furnishing details including the date of admission and date of discharge.\n",
      "\n",
      "Stamped Boarding pass used for the return travel of the child to the Country of Residence.\n",
      "\n",
      "Stamped Boarding pass of the attendant from the Country of Residence to the place of hospitalization (if attendant is necessary).\n",
      "\n",
      "Copy of passport of the child with entry and exit stamp.\n",
      "\n",
      "## Upgradation to Business Class\n",
      "\n",
      "A certificate from the Medical Practitioner specifying the minimum period of Hospitalization.\n",
      "\n",
      "Discharge summary of the Hospital furnishing the details including the date of admission and date of discharge.\n",
      "\n",
      "Product Name: Travel infinity | Product UIN: NBHTGBP22011V012223\n",
      "\n",
      "\n",
      "=========================================================\n",
      "\n",
      "\n",
      "# Insurance Policy\n",
      "\n",
      "## Benefits:\n",
      "\n",
      "- For Inpatient treatment and in this condition when admitted to a hospital, the coverage is reimbursement for medical expenses incurred.\n",
      "- For Hospital Daily Cash and in this condition when hospitalized, the coverage is daily cash benefit.\n",
      "- For Waiver of Deductible and in this condition when a deductible is applicable, the coverage is waiver of the deductible amount.\n",
      "- For Optional Co-payment and in this condition when a co-payment is required, the coverage is optional co-payment.\n",
      "- For Adventure Sports Cover and in this condition when participating in adventure sports, the coverage is coverage for injuries related to adventure sports.\n",
      "- For Home to Home Cover and in this condition when traveling abroad, the coverage is assistance for repatriation to home country.\n",
      "- For Extension to in-patient care and in this condition when requiring extended in-patient care, the coverage is extension of coverage for in-patient services.\n",
      "- For Ambulance Charge and in this condition when requiring ambulance services, the coverage is reimbursement for ambulance charges.\n",
      "- For Out-patient treatment and in this condition when receiving out-patient medical care, the coverage is reimbursement for out-patient medical expenses.\n",
      "- For Cancer Screening & Mammographic Examination and in this condition when undergoing cancer screening or mammographic examination, the coverage is reimbursement for the screening and examination costs.\n",
      "- For New Born baby Cover and in this condition when a newborn baby is covered, the coverage is medical expenses coverage for the newborn.\n",
      "- For Maternity and in this condition when maternity services are required, the coverage is coverage for maternity expenses.\n",
      "- For Complete pre-existing disease cover and in this condition when seeking treatment for pre-existing conditions, the coverage is coverage for pre-existing conditions.\n",
      "- For Medical sum insured replenishment in case of hospitalization due to accident and in this condition when hospitalized due to an accident, the coverage is replenishment of the medical sum insured.\n",
      "- For Waiver of sublimit for insured above 60 years of age and in this condition when the insured is above 60 years of age, the coverage is waiver of sublimits.\n",
      "- For Psychiatric Counseling and in this condition when seeking psychiatric counseling, the coverage is coverage for psychiatric counseling services.\n",
      "- For Physiotherapy and in this condition when requiring physiotherapy services, the coverage is coverage for physiotherapy sessions.\n",
      "- For Terrorism cover and in this condition when affected by terrorism, the coverage is coverage for medical expenses related to terrorism incidents.\n",
      "- For Medical tele-consultation and in this condition when seeking medical consultation remotely, the coverage is coverage for tele-consultation services.\n",
      "- For Medical evacuation and in this condition when requiring medical evacuation, the coverage is reimbursement for medical evacuation expenses.\n",
      "- For Compassionate visit and in this condition when requiring a compassionate visit, the coverage is assistance for a family member to visit during hospitalization.\n",
      "- For Escort of Minor Child and in this condition when escorting a minor child for medical treatment, the coverage is assistance for escorting the child.\n",
      "- For Upgradation to Business Class and in this condition when requiring upgradation to business class for medical reasons, the coverage is coverage for upgradation to business class.\n"
     ]
    }
   ],
   "source": [
    "target_page = 45\n",
    "pages_vanilla = documents[0].text.split(\"\\n---\\n\")\n",
    "pages_with_instructions = documents_with_instruction[0].text.split(\"\\n---\\n\")\n",
    "\n",
    "print(pages_vanilla[target_page])\n",
    "print(\"\\n\\n=========================================================\\n\\n\")\n",
    "print(pages_with_instructions[target_page])"
   ]
  },
  {
   "cell_type": "code",
   "execution_count": 42,
   "metadata": {},
   "outputs": [
    {
     "name": "stdout",
     "output_type": "stream",
     "text": [
      "Embeddings have been explicitly disabled. Using MockEmbedding.\n"
     ]
    },
    {
     "name": "stderr",
     "output_type": "stream",
     "text": [
      "0it [00:00, ?it/s]\n",
      "0it [00:00, ?it/s]\n"
     ]
    }
   ],
   "source": [
    "node_parser_instruction = MarkdownElementNodeParser(llm=OpenAI(model=\"gpt-3.5-turbo-0125\"), num_workers=8)\n",
    "nodes_instruction = node_parser.get_nodes_from_documents(documents_with_instruction)\n",
    "base_nodes_instruction, objects_instruction = node_parser_instruction.get_nodes_and_objects(nodes_instruction)\n",
    "\n",
    "recursive_index_instruction = VectorStoreIndex(nodes=base_nodes_instruction+objects_instruction)\n",
    "query_engine_instruction = recursive_index_instruction.as_query_engine(similarity_top_k=25)"
   ]
  },
  {
   "cell_type": "markdown",
   "metadata": {},
   "source": [
    "## Comparing Instruction-Augmented Parsing vs. Vanilla Parsing\n",
    "\n",
    "When we parse the document with natural language instructions to add context on insurance coverage, we are able to correctly answer a wide range of queries in our RAG pipeline. In contrast, a RAG pipeline built with the vanilla method is not able to answer these queries."
   ]
  },
  {
   "cell_type": "code",
   "execution_count": 44,
   "metadata": {},
   "outputs": [
    {
     "name": "stdout",
     "output_type": "stream",
     "text": [
      "Vanilla:\n",
      "You are covered for the amount mentioned in the certificate of insurance for every block of hours of delay, up to a maximum of 24 hours of delay.\n",
      "With instructions:\n",
      "You are covered for USD 500 for your delayed trip.\n"
     ]
    }
   ],
   "source": [
    "query_1 = \"My trip was delay and I paid 45, how much am I cover for?\"\n",
    "\n",
    "response_1 = query_engine.query(query_1)\n",
    "print(\"Vanilla:\")\n",
    "print(response_1)\n",
    "\n",
    "print(\"With instructions:\")\n",
    "response_1_i = query_engine_instruction.query(query_1)\n",
    "print(response_1_i)\n"
   ]
  },
  {
   "cell_type": "markdown",
   "metadata": {},
   "source": [
    "Looking at the policy it says in list I that one expense not covered is Baby food"
   ]
  },
  {
   "cell_type": "code",
   "execution_count": 46,
   "metadata": {},
   "outputs": [
    {
     "name": "stdout",
     "output_type": "stream",
     "text": [
      "Vanilla:\n",
      "Baby food is not explicitly mentioned in the provided context information.\n",
      "With instructions:\n",
      "Baby food is excluded from coverage according to the provided context information.\n"
     ]
    }
   ],
   "source": [
    "query_2 = \"I just had a baby, is baby food cover?\"\n",
    "\n",
    "response_2 = query_engine.query(query_2)\n",
    "print(\"Vanilla:\")\n",
    "print(response_2)\n",
    "\n",
    "print(\"With instructions:\")\n",
    "response_2_i = query_engine_instruction.query(query_2)\n",
    "print(response_2_i)"
   ]
  },
  {
   "cell_type": "code",
   "execution_count": 51,
   "metadata": {},
   "outputs": [
    {
     "name": "stdout",
     "output_type": "stream",
     "text": [
      "Vanilla:\n",
      "Gauze is not specifically mentioned in the context information provided.\n",
      "With instructions:\n",
      "Gauze used in your operation is covered under the benefits related to the procedure charges.\n"
     ]
    }
   ],
   "source": [
    "query_3 = \"How is gauze used in my operation coverd?\"\n",
    "\n",
    "response_3 = query_engine.query(query_3)\n",
    "print(\"Vanilla:\")\n",
    "print(response_3)\n",
    "\n",
    "print(\"With instructions:\")\n",
    "response_3_i = query_engine_instruction.query(query_3)\n",
    "print(response_3_i)"
   ]
  }
 ],
 "metadata": {
  "kernelspec": {
   "display_name": "Python 3 (ipykernel)",
   "language": "python",
   "name": "python3"
  },
  "language_info": {
   "codemirror_mode": {
    "name": "ipython",
    "version": 3
   },
   "file_extension": ".py",
   "mimetype": "text/x-python",
   "name": "python",
   "nbconvert_exporter": "python",
   "pygments_lexer": "ipython3",
   "version": "3.9.6"
  },
  "orig_nbformat": 4
 },
 "nbformat": 4,
 "nbformat_minor": 4
}
