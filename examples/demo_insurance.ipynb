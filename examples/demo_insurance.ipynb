{
 "cells": [
  {
   "cell_type": "markdown",
   "metadata": {},
   "source": [
    "# LlamaParse - Fast checking Insurance Contract for Coverage\n",
    "\n",
    "<a href=\"https://colab.research.google.com/github/run-llama/llama_parse/blob/main/examples/demo_insurance.ipynb\" target=\"_parent\"><img src=\"https://colab.research.google.com/assets/colab-badge.svg\" alt=\"Open In Colab\"/></a>\n",
    "\n",
    "In this notebook we will look at how LlamaParse can be used to extract structured coverage information from an insurance policy."
   ]
  },
  {
   "cell_type": "markdown",
   "metadata": {},
   "source": [
    "## Installation of required packages"
   ]
  },
  {
   "cell_type": "code",
   "execution_count": 1,
   "metadata": {},
   "outputs": [
    {
     "name": "stdout",
     "output_type": "stream",
     "text": [
      "zsh:1: command not found: pip\n"
     ]
    }
   ],
   "source": [
    "!pip install llama-index llama-parse"
   ]
  },
  {
   "cell_type": "markdown",
   "metadata": {},
   "source": [
    "## Download an insurance policy fron IRDAI\n",
    "\n",
    "The Insurance Regulatory and Development Authority of India (IRDAI) maintains a great resource: https://policyholder.gov.in/web/guest/non-life-insurance-products where all insurance policies available in India are publicly available for download! Let's download a complex health insurance policy as an example."
   ]
  },
  {
   "cell_type": "code",
   "execution_count": 2,
   "metadata": {
    "tags": []
   },
   "outputs": [
    {
     "name": "stdout",
     "output_type": "stream",
     "text": [
      "--2024-03-19 14:30:27--  https://policyholder.gov.in/documents/37343/931203/NBHTGBP22011V012223.pdf/c392bcc1-f6a8-cadd-ab84-495b3273d2c3?version=1.0&t=1669350459879&download=true\n",
      "Resolving policyholder.gov.in (policyholder.gov.in)... 13.107.246.61, 13.107.213.61\n",
      "Connecting to policyholder.gov.in (policyholder.gov.in)|13.107.246.61|:443... connected.\n",
      "HTTP request sent, awaiting response... 200 \n",
      "Length: 1341586 (1.3M) [application/pdf]\n",
      "Saving to: ‘./policy.pdf’\n",
      "\n",
      "./policy.pdf        100%[===================>]   1.28M  1.37MB/s    in 0.9s    \n",
      "\n",
      "2024-03-19 14:30:29 (1.37 MB/s) - ‘./policy.pdf’ saved [1341586/1341586]\n",
      "\n"
     ]
    }
   ],
   "source": [
    "!wget \"https://policyholder.gov.in/documents/37343/931203/NBHTGBP22011V012223.pdf/c392bcc1-f6a8-cadd-ab84-495b3273d2c3?version=1.0&t=1669350459879&download=true\" -O \"./policy.pdf\""
   ]
  },
  {
   "cell_type": "markdown",
   "metadata": {},
   "source": [
    "## Initializing LlamaIndex and LlamaParse"
   ]
  },
  {
   "cell_type": "code",
   "execution_count": 3,
   "metadata": {
    "tags": []
   },
   "outputs": [],
   "source": [
    "# llama-parse is async-first, running the sync code in a notebook requires the use of nest_asyncio\n",
    "import nest_asyncio\n",
    "nest_asyncio.apply()"
   ]
  },
  {
   "cell_type": "code",
   "execution_count": 5,
   "metadata": {},
   "outputs": [],
   "source": [
    "import os\n",
    "os.environ[\"LLAMA_CLOUD_API_KEY\"] = \"llx-...\"\n",
    "os.environ[\"OPENAI_API_KEY\"] = \"sk-...\""
   ]
  },
  {
   "cell_type": "code",
   "execution_count": 6,
   "metadata": {
    "tags": []
   },
   "outputs": [],
   "source": [
    "from llama_index.llms.openai import OpenAI\n",
    "from llama_index.embeddings.openai import OpenAIEmbedding\n",
    "from llama_index.core import VectorStoreIndex\n",
    "from llama_index.core import Settings\n",
    "\n",
    "# for the purpose of this example, we will use the small model embedding and gpt3.5\n",
    "embed_model=OpenAIEmbedding(model=\"text-embedding-3-small\")\n",
    "llm = OpenAI(model=\"gpt-3.5-turbo-0125\")\n",
    "\n",
    "Settings.llm = llm"
   ]
  },
  {
   "cell_type": "markdown",
   "metadata": {},
   "source": [
    "## Vanilla Approach - Parse the Policy with LlamaParse into Markdown"
   ]
  },
  {
   "cell_type": "code",
   "execution_count": 7,
   "metadata": {
    "tags": []
   },
   "outputs": [
    {
     "name": "stdout",
     "output_type": "stream",
     "text": [
      "Started parsing the file under job_id f6ef66a3-a085-4fa5-8300-479adcdea779\n"
     ]
    }
   ],
   "source": [
    "from llama_parse import LlamaParse\n",
    "\n",
    "documents = LlamaParse(result_type=\"markdown\").load_data(\"./policy.pdf\")"
   ]
  },
  {
   "cell_type": "code",
   "execution_count": 8,
   "metadata": {
    "tags": []
   },
   "outputs": [
    {
     "name": "stdout",
     "output_type": "stream",
     "text": [
      "## Preamble\n",
      "\n",
      "This ‘Travel Infinity’ Policy is a contract of insurance between You and Us which is subject to payment of full premium in advance and the terms, conditions and exclusions of this Policy. Expense incurred outside the policy period will NOT be covered. Unutilized Sum Insured will expire at the end of the policy year. All applicable benefits, details and limits are mentioned in your Certificate of insurance. We will cover only allopathic treatments in this policy.\n",
      "\n",
      "## Defined Terms\n",
      "\n",
      "The terms listed below in this Section and used elsewhere in the Policy in Initial Capitals shall have the meaning set out against them in this Section.\n",
      "\n",
      "### Standard Definitions\n",
      "\n",
      "|2.1|Accident or Accidental|means sudden, unforeseen and involuntary event caused by external, visible and violent means.|\n",
      "|---|---|---|\n",
      "|2.2|Co-payment|means a cost sharing requirement under a health insurance policy that provides that the policyholder/insured will bear a specified percentage of the admissible claims a\n"
     ]
    }
   ],
   "source": [
    "print(documents[0].text[0:1000])"
   ]
  },
  {
   "cell_type": "markdown",
   "metadata": {},
   "source": [
    "### Markdown Element Node Parser\n",
    "Our markdown element node parser works well for parsing the markdown output of LlamaParse into a set of table and text nodes."
   ]
  },
  {
   "cell_type": "code",
   "execution_count": 9,
   "metadata": {
    "tags": []
   },
   "outputs": [],
   "source": [
    "from llama_index.core.node_parser import MarkdownElementNodeParser\n",
    "\n",
    "node_parser = MarkdownElementNodeParser(llm=OpenAI(model=\"gpt-3.5-turbo-0125\"), num_workers=8)"
   ]
  },
  {
   "cell_type": "code",
   "execution_count": 10,
   "metadata": {
    "tags": []
   },
   "outputs": [
    {
     "name": "stderr",
     "output_type": "stream",
     "text": [
      "/Users/pierre/Library/Python/3.9/lib/python/site-packages/urllib3/__init__.py:35: NotOpenSSLWarning: urllib3 v2 only supports OpenSSL 1.1.1+, currently the 'ssl' module is compiled with 'LibreSSL 2.8.3'. See: https://github.com/urllib3/urllib3/issues/3020\n",
      "  warnings.warn(\n"
     ]
    },
    {
     "name": "stdout",
     "output_type": "stream",
     "text": [
      "Embeddings have been explicitly disabled. Using MockEmbedding.\n"
     ]
    },
    {
     "name": "stderr",
     "output_type": "stream",
     "text": [
      "111it [00:00, 86184.33it/s]\n",
      "100%|██████████| 111/111 [00:35<00:00,  3.15it/s]\n"
     ]
    }
   ],
   "source": [
    "nodes = node_parser.get_nodes_from_documents(documents)"
   ]
  },
  {
   "cell_type": "code",
   "execution_count": 11,
   "metadata": {
    "tags": []
   },
   "outputs": [],
   "source": [
    "base_nodes, objects = node_parser.get_nodes_and_objects(nodes)\n",
    "\n",
    "recursive_index = VectorStoreIndex(nodes=base_nodes+objects)"
   ]
  },
  {
   "cell_type": "code",
   "execution_count": 12,
   "metadata": {
    "tags": []
   },
   "outputs": [],
   "source": [
    "query_engine = recursive_index.as_query_engine(similarity_top_k=25)"
   ]
  },
  {
   "cell_type": "markdown",
   "metadata": {},
   "source": [
    "### Querying the model for coverage"
   ]
  },
  {
   "cell_type": "code",
   "execution_count": 9,
   "metadata": {
    "tags": []
   },
   "outputs": [
    {
     "name": "stdout",
     "output_type": "stream",
     "text": [
      "You are covered for the expenses incurred on any alternate travel booking under any mode of transport, up to the limit of the Sum Insured as mentioned in the Certificate of insurance, if the delay of the airlines was caused due to specific reasons outlined in the policy. The amount you are covered for will depend on the specific terms and conditions of your policy, including the maximum coverage limit specified in the Certificate of insurance.\n"
     ]
    }
   ],
   "source": [
    "query_1 = \"My trip was delay and I paid 45, how much am I cover for?\"\n",
    "\n",
    "response_1 = query_engine.query(query_1)\n",
    "print(str(response_1))"
   ]
  },
  {
   "cell_type": "markdown",
   "metadata": {},
   "source": [
    "The information is split across the document which leads to retrieval issues. Let's try some parsing instructions to improve our result."
   ]
  },
  {
   "cell_type": "code",
   "execution_count": 22,
   "metadata": {
    "tags": []
   },
   "outputs": [
    {
     "name": "stdout",
     "output_type": "stream",
     "text": [
      "Started parsing the file under job_id 5b110ac2-e403-4eb3-a92b-97438d97199a\n",
      "....."
     ]
    }
   ],
   "source": [
    "documents_with_instruction = LlamaParse(result_type=\"markdown\", parsing_instruction=\"\"\"\n",
    "This document is an insurance policy.\n",
    "When a benefits/coverage/exlusion is describe in the document ammend to it add a text in the follwing benefits string format (where coverage could be an exclusion).\n",
    "\n",
    "Benefits for {nameofrisk} is {benefitsDescription}, with amount: {benefitsAmount}, and conditions: {benefitsCondition}. \n",
    "                                        \n",
    "If the document contain a benefits TABLE that describe coverage amounts, do not ouput it as a table, but instead as a list of benefits string.\n",
    "                                       \n",
    "\"\"\").load_data(\"./policy.pdf\")"
   ]
  },
  {
   "cell_type": "markdown",
   "metadata": {},
   "source": [
    "Let see how the 2 parsing compare (change target page to explore)"
   ]
  },
  {
   "cell_type": "code",
   "execution_count": 23,
   "metadata": {
    "tags": []
   },
   "outputs": [
    {
     "name": "stdout",
     "output_type": "stream",
     "text": [
      "## Repatriation of Mortal remains\n",
      "\n",
      "|Indemnity|USD|\n",
      "|---|---|\n",
      "|5K, 10K, 15K, 20K, 25K, 50K, 75K, 100K, 150K, 200K 250K|Nil/50/100|\n",
      "\n",
      "## Repatriation of Mortal remains\n",
      "\n",
      "|Indemnity|USD|\n",
      "|---|---|\n",
      "|3Lac, 5Lac|Independent SI|\n",
      "\n",
      "## Total Loss of Checked-in Baggage\n",
      "\n",
      "|Benefit|USD|\n",
      "|---|---|\n",
      "|100 to 1000 in multiples of 100|NIL|\n",
      "\n",
      "## Delay of Checked-in Baggage\n",
      "\n",
      "|Benefit|USD|\n",
      "|---|---|\n",
      "|100 to 500 in multiples of 100|1/2/3/5/6/24 hours|\n",
      "|25 to 100 in multiple of 25|3/6/8/12 hours|\n",
      "\n",
      "## Trip Delay\n",
      "\n",
      "|Benefit|USD|\n",
      "|---|---|\n",
      "|Post that in multiple of 50 up to 500|hours|\n",
      "|500, 750, 1000. Post that in|NIL/100/25|\n",
      "\n",
      "## Trip Cancellation\n",
      "\n",
      "|Indemnity|USD|\n",
      "|---|---|\n",
      "|multiple of 1000 till 10000|0/500/100|\n",
      "\n",
      "|Benefit|USD|\n",
      "|---|---|\n",
      "|multiple of 500 till 5000|0/500/100|\n",
      "\n",
      "## Trip Interruption\n",
      "\n",
      "|Indemnity|USD|\n",
      "|---|---|\n",
      "|multiple of 500 till 10000|0/500/100|\n",
      "\n",
      "|Benefit|USD|\n",
      "|---|---|\n",
      "|multiple of 500 till 5000|0/500/100|\n",
      "\n",
      "## Loss of Passport\n",
      "\n",
      "|Indemnity|USD|\n",
      "|---|---|\n",
      "|200 to 500 in multiple of 100|Nil|\n",
      "\n",
      "|Benefit|USD|\n",
      "|---|---|\n",
      "|100|Independent SI|\n",
      "\n",
      "## Loss of International driving License\n",
      "\n",
      "|Indemnity|USD|\n",
      "|---|---|\n",
      "|200 to 500 in multiple of 100|Nil|\n",
      "\n",
      "|Benefit|USD|\n",
      "|---|---|\n",
      "|100|Independent SI|\n",
      "\n",
      "## Missed Connection\n",
      "\n",
      "|Indemnity|USD|\n",
      "|---|---|\n",
      "|500 to 1000 in multiple of 100|Nil|\n",
      "\n",
      "|Benefit|USD|\n",
      "|---|---|\n",
      "|100|Independent SI|\n",
      "\n",
      "## Financial Emergency Cash\n",
      "\n",
      "|Benefit|USD|\n",
      "|---|---|\n",
      "|500 to 1000 in multiple of 100|NIL|\n",
      "\n",
      "|Indemnity|USD|\n",
      "|---|---|\n",
      "|10K, 50K, 1Lac, 2Lac, 3Lac, 4Lac|Nil/100/20|\n",
      "\n",
      "## Personal Liability\n",
      "\n",
      "|Indemnity|USD|\n",
      "|---|---|\n",
      "|100 % of Base SI|Part of Base SI|\n",
      "\n",
      "## Hijack Daily Allowance\n",
      "\n",
      "|Benefit|USD|\n",
      "|---|---|\n",
      "|25, 50, 75, 100 for 7 days|6/12 hours|\n",
      "\n",
      "## Bounced Booking-Hotel/Common Carrier\n",
      "\n",
      "|Indemnity|USD|\n",
      "|---|---|\n",
      "|100 to 1000 in multiples of 100|6/12 hours|\n",
      "\n",
      "|Benefit|USD|\n",
      "|---|---|\n",
      "|100|Independent SI|\n",
      "\n",
      "## Compassionate Visit\n",
      "\n",
      "|Indemnity|USD|\n",
      "|---|---|\n",
      "|500 to 5000 in multiple of 500|Nil|\n",
      "\n",
      "## Escort of Minor Child\n",
      "\n",
      "|Indemnity|USD|\n",
      "|---|---|\n",
      "|1000 till 5000 in multiple of 1000|Independent SI|\n",
      "\n",
      "## Adventure Sport\n",
      "\n",
      "|Indemnity|USD|\n",
      "|---|---|\n",
      "|100 % of Base SI|Part of Base SI|\n",
      "\n",
      "## Sports Equipment Hire\n",
      "\n",
      "|Indemnity|USD|\n",
      "|---|---|\n",
      "|500, 1000, 1500 2000|Nil/100|\n",
      "\n",
      "## Rented sports equipment damage or loss\n",
      "\n",
      "|Indemnity|USD|\n",
      "|---|---|\n",
      "|500, 1000, 1500 2000|Nil/100|\n",
      "\n",
      "Product Name: Travel infinity | Product UIN: NBHTGBP22011V012223\n",
      "\n",
      "\n",
      "=========================================================\n",
      "\n",
      "\n",
      "# Insurance Policy\n",
      "\n",
      "# Insurance Policy\n",
      "\n",
      "Benefits for Repatriation of Mortal remains is Indemnity. Part of Base SI\n",
      "\n",
      "Benefits for Repatriation of Mortal remains is Indemnity. Independent SI\n",
      "\n",
      "Benefits for Total Loss of Checked-in Baggage is Benefit. Independent SI\n",
      "\n",
      "Benefits for Delay of Checked-in Baggage is Benefit. Independent SI\n",
      "\n",
      "Benefits for Trip Delay is Benefit. Independent SI\n",
      "\n",
      "Benefits for Trip Cancellation is Indemnity. Independent SI\n",
      "\n",
      "Benefits for Trip Cancellation is Benefit. Independent SI\n",
      "\n",
      "Benefits for Trip Interruption is Indemnity. Independent SI\n",
      "\n",
      "Benefits for Trip Interruption is Benefit. Independent SI\n",
      "\n",
      "Benefits for Loss of Passport is Indemnity. Independent SI\n",
      "\n",
      "Benefits for Loss of Passport is Benefit. Independent SI\n",
      "\n",
      "Benefits for Loss of International driving License is Indemnity. Independent SI\n",
      "\n",
      "Benefits for Loss of International driving License is Benefit. Independent SI\n",
      "\n",
      "Benefits for Missed Connection is Indemnity. Independent SI\n",
      "\n",
      "Benefits for Missed Connection is Benefit. Independent SI\n",
      "\n",
      "Benefits for Financial Emergency Cash is Benefit. Independent SI\n",
      "\n",
      "Benefits for Personal Liability is Indemnity. Independent SI\n",
      "\n",
      "Benefits for Hijack Daily Allowance is Benefit. Independent SI\n",
      "\n",
      "Benefits for Bounced Booking-Hotel/Common Carrier is Indemnity. Independent SI\n",
      "\n",
      "Benefits for Bounced Booking-Hotel/Common Carrier is Benefit. Independent SI\n",
      "\n",
      "Benefits for Compassionate Visit is Indemnity. Independent SI\n",
      "\n",
      "Benefits for Escort of Minor Child is Indemnity. Independent SI\n",
      "\n",
      "Benefits for Adventure Sport is Indemnity. Part of Base SI\n",
      "\n",
      "Benefits for Sports Equipment Hire is Indemnity. Independent SI\n",
      "\n",
      "Benefits for Rented sports equipment damage or loss is Indemnity. Independent SI\n"
     ]
    }
   ],
   "source": [
    "target_page = 51\n",
    "pages_vanilla = documents[0].text.split(\"\\n---\\n\")\n",
    "pages_with_instructions = documents_with_instruction[0].text.split(\"\\n---\\n\")\n",
    "\n",
    "print(pages_vanilla[target_page])\n",
    "print(\"\\n\\n=========================================================\\n\\n\")\n",
    "print(pages_with_instructions[target_page])"
   ]
  },
  {
   "cell_type": "code",
   "execution_count": 15,
   "metadata": {
    "tags": []
   },
   "outputs": [
    {
     "name": "stdout",
     "output_type": "stream",
     "text": [
      "Embeddings have been explicitly disabled. Using MockEmbedding.\n"
     ]
    },
    {
     "name": "stderr",
     "output_type": "stream",
     "text": [
      "1it [00:00, 25575.02it/s]\n",
      "100%|██████████| 1/1 [00:02<00:00,  2.13s/it]\n"
     ]
    }
   ],
   "source": [
    "node_parser_instruction = MarkdownElementNodeParser(llm=OpenAI(model=\"gpt-3.5-turbo-0125\"), num_workers=8)\n",
    "nodes_instruction = node_parser.get_nodes_from_documents(documents_with_instruction)\n",
    "base_nodes_instruction, objects_instruction = node_parser_instruction.get_nodes_and_objects(nodes_instruction)\n",
    "\n",
    "recursive_index_instruction = VectorStoreIndex(nodes=base_nodes_instruction+objects_instruction)\n",
    "query_engine_instruction = recursive_index_instruction.as_query_engine(similarity_top_k=25)"
   ]
  },
  {
   "cell_type": "markdown",
   "metadata": {},
   "source": [
    "## Comparing Instruction-Augmented Parsing vs. Vanilla Parsing\n",
    "\n",
    "When we parse the document with natural language instructions to add context on insurance coverage, we are able to correctly answer a wide range of queries in our RAG pipeline. In contrast, a RAG pipeline built with the vanilla method is not able to answer these queries."
   ]
  },
  {
   "cell_type": "code",
   "execution_count": 16,
   "metadata": {
    "tags": []
   },
   "outputs": [
    {
     "name": "stdout",
     "output_type": "stream",
     "text": [
      "Vanilla:\n",
      "You are covered for the expenses you incurred due to the delay of your trip. The amount you paid, which was 45, will be covered up to the limit specified in the certificate of insurance for every block of hours of delay, as mentioned in the policy.\n",
      "With instructions:\n",
      "For Trip Delay coverage, the payment amount for every block of hours of delay is as mentioned in the certificate of insurance.\n"
     ]
    }
   ],
   "source": [
    "query_1 = \"My trip was delayed and I paid 45, how much am I covered for?\"\n",
    "\n",
    "response_1 = query_engine.query(query_1)\n",
    "print(\"Vanilla:\")\n",
    "print(response_1)\n",
    "\n",
    "print(\"With instructions:\")\n",
    "response_1_i = query_engine_instruction.query(query_1)\n",
    "print(response_1_i)\n"
   ]
  },
  {
   "cell_type": "markdown",
   "metadata": {},
   "source": [
    "Looking at the policy it says in list I that one expense not covered is Baby food"
   ]
  },
  {
   "cell_type": "code",
   "execution_count": 16,
   "metadata": {
    "tags": []
   },
   "outputs": [
    {
     "name": "stdout",
     "output_type": "stream",
     "text": [
      "Vanilla:\n",
      "Baby food is not explicitly mentioned in the provided context information regarding insurance coverages and benefits.\n",
      "With instructions:\n",
      "Baby food is excluded from coverage according to the policy terms.\n"
     ]
    }
   ],
   "source": [
    "query_2 = \"I just had a baby, is baby food covered?\"\n",
    "\n",
    "response_2 = query_engine.query(query_2)\n",
    "print(\"Vanilla:\")\n",
    "print(response_2)\n",
    "\n",
    "print(\"With instructions:\")\n",
    "response_2_i = query_engine_instruction.query(query_2)\n",
    "print(response_2_i)"
   ]
  },
  {
   "cell_type": "code",
   "execution_count": 18,
   "metadata": {
    "tags": []
   },
   "outputs": [
    {
     "name": "stdout",
     "output_type": "stream",
     "text": [
      "Vanilla:\n",
      "Gauze used in your operation would typically be covered under the \"Emergency In-patient Medical Treatment\" or \"Emergency In-patient Medical Treatment with OPD\" benefits of the policy.\n",
      "With instructions:\n",
      "Gauze is not covered for use in your operation as it falls under the category of items that are excluded from coverage in the insurance policy.\n"
     ]
    }
   ],
   "source": [
    "query_3 = \"How is gauze used in my operation covered?\"\n",
    "\n",
    "response_3 = query_engine.query(query_3)\n",
    "print(\"Vanilla:\")\n",
    "print(response_3)\n",
    "\n",
    "print(\"With instructions:\")\n",
    "response_3_i = query_engine_instruction.query(query_3)\n",
    "print(response_3_i)"
   ]
  },
  {
   "cell_type": "code",
   "execution_count": null,
   "metadata": {},
   "outputs": [],
   "source": []
  }
 ],
 "metadata": {
  "kernelspec": {
   "display_name": "Python 3",
   "language": "python",
   "name": "python3"
  },
  "language_info": {
   "codemirror_mode": {
    "name": "ipython",
    "version": 3
   },
   "file_extension": ".py",
   "mimetype": "text/x-python",
   "name": "python",
   "nbconvert_exporter": "python",
   "pygments_lexer": "ipython3",
   "version": "3.9.6"
  }
 },
 "nbformat": 4,
 "nbformat_minor": 4
}
