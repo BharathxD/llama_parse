{
 "cells": [
  {
   "cell_type": "markdown",
   "id": "28d15ea5-a3eb-4ee5-9d91-8dbd95e53129",
   "metadata": {},
   "source": [
    "# Multi-Language Support in LlamaParse\n",
    "\n",
    "LlamaParse supports users to specify a `language` parameter before uploading documents, allowing users to better parse non-English PDFs into proper representations.\n",
    "\n",
    "You can specify 80+ different languages: see this file for a full list of supported languages: https://github.com/run-llama/llama_parse/blob/main/llama_parse/base.py.\n",
    "\n",
    "This notebook shows a demo of this in action. "
   ]
  },
  {
   "cell_type": "code",
   "execution_count": null,
   "id": "15539193-2f5c-4ecf-9ca4-9aee6f888468",
   "metadata": {},
   "outputs": [],
   "source": [
    "!pip install llama-index llama-parse"
   ]
  },
  {
   "cell_type": "code",
   "execution_count": 5,
   "id": "87322210-c21c-43d6-b459-2e8a828ac576",
   "metadata": {
    "tags": []
   },
   "outputs": [],
   "source": [
    "# llama-parse is async-first, running the sync code in a notebook requires the use of nest_asyncio\n",
    "import nest_asyncio\n",
    "\n",
    "nest_asyncio.apply()\n",
    "\n",
    "import os\n",
    "# os.environ[\"LLAMA_CLOUD_API_KEY\"] = \"llx-...\""
   ]
  },
  {
   "cell_type": "markdown",
   "id": "2b5cabdf-342a-42d2-8ad4-0ba7c46cdfb9",
   "metadata": {},
   "source": [
    "## Load in a French PDF\n",
    "\n",
    "We load in the 2022 annual report from Agence France Tresor."
   ]
  },
  {
   "cell_type": "code",
   "execution_count": null,
   "id": "e81e0a08-3a99-42e6-adcc-00bb4ce1c3d4",
   "metadata": {
    "tags": []
   },
   "outputs": [],
   "source": [
    "!wget \"https://www.dropbox.com/scl/fi/fxg17log5ydwoflhxmgrb/treasury_report.pdf?rlkey=mdintk0o2uuzkple26vc4v6fd&dl=1\" -O treasury_report.pdf"
   ]
  },
  {
   "cell_type": "code",
   "execution_count": 6,
   "id": "ecfc578c-3c7f-4ec1-aa06-51565c28632b",
   "metadata": {
    "tags": []
   },
   "outputs": [
    {
     "name": "stdout",
     "output_type": "stream",
     "text": [
      "Started parsing the file under job_id 476966e1-9e04-49e7-a5dc-952b053b8b94\n",
      "......"
     ]
    }
   ],
   "source": [
    "from llama_parse import LlamaParse\n",
    "\n",
    "parser = LlamaParse(\n",
    "    result_type=\"text\",\n",
    "    language=\"fr\"\n",
    ")\n",
    "documents = parser.load_data(\"./treasury_report.pdf\")"
   ]
  },
  {
   "cell_type": "code",
   "execution_count": 8,
   "id": "0c37db27-3496-4a59-918b-701c9ad7706d",
   "metadata": {
    "tags": []
   },
   "outputs": [
    {
     "name": "stdout",
     "output_type": "stream",
     "text": [
      " ET GESTION DE LA DETTE DE L’ÉTAT\n",
      "             P.56      FOCUS OAT VERTES\n",
      "             P.60      CONTRÔLE DES RISQUES & POST-MARCHÉ\n",
      "         Chiffres de l’exercice 2022                                                    P.64 À 105\n",
      "             P.65      ACTIVITÉ DE L’AFT\n",
      "             P.84      RAPPORT STATISTIQUE\n",
      "         FICHES TECHNIQUES                   GLOSSAIRES                LISTE DES ABRÉVIATIONS\n",
      "             P.106                                P.118                    P.122\n",
      "                                                              AGENCE FRANCE TRÉSOR - RAPPORT D’ACTIVITÉ 2022      3\n",
      "---\n",
      "                                    Édito\n",
      "                                                   111        Avec une croissance\n",
      "                                                       de +2,5 %, la France a illustré\n",
      "                                                      une nouvelle fois sa résilience\n",
      "                                                       économique face aux chocs.\n",
      "4  AGENCE FRANCE TRÉSOR - RAPPORT D’ACTIVITÉ 2022\n",
      "---\n",
      "               L’économie française en 2022 :\n",
      " résilience face aux chocs géopolitiques\n",
      "                                       et économiques\n",
      "                                             sa résilience économique face aux           lors du dernier trimestre de 2022.\n",
      "LE DÉBUT DE                                  chocs. Cette croissance a été permise       Malgré un climat des affaires impacté\n",
      "L’ANNÉE 2022                                 grâce à une forte demande intérieure        par l’inflation, le soutien apporté\n",
      "                                             alimentée    par   le dynamisme       de    aux TPE/PME leur a permis de faire\n",
      "SEMBLAIT                                     l’investissement     et,  en  dépit   de    face aux défis énergétiques tout en\n",
      "                                             l’inflation,  d’une   résilience   de  la   préservant l’emploi.\n",
      "ENGAGÉ DANS                                  consommation des ménages sur une\n",
      "                                             grande partie de l’année.                   Afin de combattre l’inflation qui a\n",
      "UNE DYNAMIQUE                                                                            largement dépassé la cible de 2 %,\n",
      "                                             Le  taux  d’inflation    des  prix  à  la   la BCE, de concert avec les banques\n",
      "EFFICACE DE                                  consommation français est resté l’un        centrales des principales économies\n",
      "SORTIE DE CRISE                              des plus bas d’Europe avec +6,0 %           développées, a adapté sa fonction de\n",
      "                                             en 2022, s’appuyant, d’une part, sur        réaction en mettant fin aux politiques\n",
      "PORTÉE PAR                                   l’atout structurel que représente un        d’assouplissement monétaire qu’elle\n",
      "                                             mix énergétique parmi les moins             menait depuis la crise financière de\n",
      "UNE REPRISE                                  exposés à la Russie et, d’autre part,       2008. Ainsi, dès juillet 2022, et pour\n",
      "                                             sur  les politiques    proactives     du    la première fois en 10 ans, la BCE a\n",
      "ÉCONOMIQUE                                   gouvernement avec la mise en place          augmenté ses taux directeurs. Les\n",
      "                                             du bouclier tarifaire, de la remise         taux d’emprunts de l’État à 10 ans se\n",
      "INÉDITE                                      carburant et du chèque énergie.             sont ainsi progressivement éloignés\n",
      "AMORCÉE                                      Ces  dispositifs,   temporaires,     ont    de   leur  territoire    négatif   pour\n",
      "                                             été progressivement supprimés : la          atteindre 3,10 % en fin d’année.\n",
      "EN 2021.                                     remise carburant, d’abord prolongée\n",
      "                                             jusqu’à   mi-novembre        a pris   fin   Cette    décision    s’est  également\n",
      "Le déclenchement de la guerre en             en décembre 2022, tandis que le             accompagnée           de   la   fin   du\n",
      "Ukraine par la Russie dès février a          chèque énergie exceptionnel a pris          programme d’achat d’urgence (PEPP)\n",
      "rebattu les cartes de cet équilibre,         fin en mars 2023.                           mis en place pendant la pandémie,\n",
      "provoquant des bouleversements                                                           suivi de la réduction progressive de\n",
      "majeurs sur les plans géopolitiques et       Le marché du travail français a par         son bilan, à un rythme mensuel de 15\n",
      "économiques, avec le déploiement             ailleurs montré toute sa robustesse,        milliards d’euros par mois.\n",
      "de sanctions à l’encontre de la Russie       la dynamique de reprise initiée en\n",
      "et une forte poussée inflationniste.         2021 ainsi que l’effet des réformes         L’Agence France Trésor a fait face à ce\n",
      "Face à cette situation, les principales      structurelles engagées les années           contexte de grands bouleversements\n",
      "banques centrales mondiales, dont            précédentes     permettant      au  taux    géopolitiques,      économiques        et\n",
      "la  Banque     centrale    européenne        d’emploi des Français âgés de 15 à 64       financiers   en   s’appuyant     sur  ses\n",
      "(BCE), ont engagé une politique de           ans d’atteindre fin 2022 un niveau          principes de régularité, de prévisibilité\n",
      "normalisation      monétaire      rapide     de 68,1 %, un record depuis 1975.           et de transparence. Cette stratégie\n",
      "pour    lutter   contre     l’inflation.     La reprise économique de début              s’est de nouveau révélée robuste et,\n",
      "Parallèlement,      le gouvernement          d’année et les effets positifs du plan      alliée à l’engagement et à l’efficacité\n",
      "français a mis en place des mesures          France Relance ont permis la création       de ses équipes, ainsi qu’à la qualité\n",
      "(à hauteur de 43,6 milliards d’euros         de 337 100 emplois, essentiellement         de crédit de la signature de la France,\n",
      "sur l’année 2022) pour protéger les          dans le secteur salarié marchand. Ce        lui a permis d’accomplir sa mission\n",
      "entreprises et les ménages.                  dynamisme a aussi conduit à la chute        de financement de l’action publique\n",
      "                                             du taux de chômage, atteignant son          au bénéfice de tous.\n",
      "Avec une croissance de +2,5 %, la            niveau le plus bas depuis mars 2008\n",
      "France a illustré une nouvelle fois          avec 7,2 % de demandeurs d’emploi\n",
      "                                                                                         Emmanuel Moulin\n",
      "                                                                                         DIRECTEUR GÉNÉRAL DU TRÉSOR\n",
      "                                                                                         ET PRÉSIDENT DE L’AFT\n",
      "                                                            AGENCE FRANCE TRÉSOR - RAPPORT D’ACTIVITÉ 2022                     5\n",
      "---\n",
      "   du directeur général                     Le mot\n",
      "                                                        011  En 2022, le choc d’inflation\n",
      "                                                                    et la normalisation\n",
      "                                                               de la politique monétaire\n",
      "                                                              ont mis fin à une décennie\n",
      "                                                             de taux historiquement bas.\n",
      "6       AGENCE FRANCE TRÉSOR - RAPPORT D’ACTIVITÉ 2022\n",
      "---\n",
      "  MALGRÉ UN CONTEXTE DE MARCHÉ MOUVEMENTÉ ET LES MESURES D’AMPLEUR\n",
      "               PRISES POUR LIMITER L’IMPACT DE L’INFLATION SUR LES MÉNAGES ET\n",
      "  LES ENTREPRISES, LE PROGRAMME DE FINANCEMENT À MOYEN ET LONG TERME\n",
      "        EST DEMEURÉ INCHANGÉ À 260 MILLIARDS D’EUROS, STABLE PAR RAPPORT\n",
      "  À 2021, ET LA DETTE DE COURT TERME A ÉTÉ RÉDUITE DE 7 MILLIARDS D’EUROS.\n",
      "En janvier 2022, la normalisation de                                 d’obligations indexées sur l’inflation,                               la dette de court terme a été réduite\n",
      "la politique monétaire en zone euro                                  sur      lequel         a    été      enregistré             un       de    7   milliards         d’euros.        En    effet,      le\n",
      "était      une      perspective              de     moyen            supplément d’indexation supérieur                                     dynamisme des recettes fiscales et\n",
      "terme. Quelques semaines plus tard,                                  de     17    milliards        d’euros         à   celui      de       la   trésorerie          levée      lors     de    la   crise\n",
      "l’invasion de l’Ukraine par la Russie                                l’année          2021.       Il   s’est      également                sanit\n"
     ]
    }
   ],
   "source": [
    "print(documents[0].get_content()[1000:10000])"
   ]
  }
 ],
 "metadata": {
  "kernelspec": {
   "display_name": "llama_parse",
   "language": "python",
   "name": "llama_parse"
  },
  "language_info": {
   "codemirror_mode": {
    "name": "ipython",
    "version": 3
   },
   "file_extension": ".py",
   "mimetype": "text/x-python",
   "name": "python",
   "nbconvert_exporter": "python",
   "pygments_lexer": "ipython3",
   "version": "3.10.8"
  }
 },
 "nbformat": 4,
 "nbformat_minor": 5
}
